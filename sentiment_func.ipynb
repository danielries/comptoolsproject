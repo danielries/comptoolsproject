{
 "cells": [
  {
   "cell_type": "code",
   "execution_count": null,
   "metadata": {},
   "outputs": [],
   "source": [
    "\n",
    "from afinn import Afinn\n",
    "from collections import defaultdict\n",
    "\n",
    "# Load AFINN lexicon with defaultdict to handle missing words\n",
    "sent_lexicon = defaultdict(lambda: 0, Afinn()._dict)\n",
    "\n",
    "# Function to calculate sentiment score for a single text\n",
    "def calculate_sentiment(text):\n",
    "\n",
    "    print(*(sent_lexicon[word] for word in text), sep='\\n')\n",
    "    \n",
    "    # Sum up the sentiment scores of each word in the text\n",
    "    sentiment_score = sum(sent_lexicon[word] for word in text)\n",
    "    \n",
    "    # Optionally normalize by the number of words (average sentiment per word)\n",
    "    if len(text) > 0:\n",
    "        normalized_score = sentiment_score / len(text)\n",
    "    else:\n",
    "        normalized_score = 0\n",
    "    \n",
    "    return normalized_score"
   ]
  },
  {
   "cell_type": "code",
   "execution_count": 3,
   "metadata": {},
   "outputs": [],
   "source": [
    "import pandas as pd\n",
    "from gensim.models import Word2Vec\n",
    "from sklearn.cluster import KMeans\n",
    "import numpy as np\n",
    "import multiprocessing"
   ]
  },
  {
   "cell_type": "code",
   "execution_count": 5,
   "metadata": {},
   "outputs": [],
   "source": [
    "df_combined = pd.read_csv(\"data/combined_preprocessed_comments.csv\")\n",
    "\n",
    "sentences = df_combined['comment_no_stopwords'].dropna().apply(lambda x: x.split()).tolist()"
   ]
  },
  {
   "cell_type": "code",
   "execution_count": 6,
   "metadata": {},
   "outputs": [
    {
     "data": {
      "text/plain": [
       "(1507473, 5030000)"
      ]
     },
     "execution_count": 6,
     "metadata": {},
     "output_type": "execute_result"
    }
   ],
   "source": [
    "# Train Word2Vec model\n",
    "w2v_model = Word2Vec(\n",
    "    sentences=sentences,\n",
    "    vector_size=100,\n",
    "    window=4,  \n",
    "    min_count=3,\n",
    "    sample=1e-5,  \n",
    "    alpha=0.03,  \n",
    "    min_alpha=0.0007,  \n",
    "    negative=20,  \n",
    "    workers=multiprocessing.cpu_count() - 1,  \n",
    "    sg=0 \n",
    ")\n",
    "\n",
    "# Build vocabulary and train the Word2Vec model\n",
    "w2v_model.build_vocab(sentences)\n",
    "w2v_model.train(sentences, total_examples=w2v_model.corpus_count, epochs=20)"
   ]
  },
  {
   "cell_type": "code",
   "execution_count": 7,
   "metadata": {},
   "outputs": [],
   "source": [
    "word_vectors = w2v_model.wv\n",
    "vocab = list(word_vectors.index_to_key)\n",
    "embeddings = np.array([word_vectors[word] for word in vocab])"
   ]
  },
  {
   "cell_type": "code",
   "execution_count": null,
   "metadata": {},
   "outputs": [],
   "source": []
  }
 ],
 "metadata": {
  "kernelspec": {
   "display_name": "py311",
   "language": "python",
   "name": "python3"
  },
  "language_info": {
   "codemirror_mode": {
    "name": "ipython",
    "version": 3
   },
   "file_extension": ".py",
   "mimetype": "text/x-python",
   "name": "python",
   "nbconvert_exporter": "python",
   "pygments_lexer": "ipython3",
   "version": "3.11.9"
  }
 },
 "nbformat": 4,
 "nbformat_minor": 2
}
