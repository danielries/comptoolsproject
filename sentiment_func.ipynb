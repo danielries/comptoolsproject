{
 "cells": [
  {
   "cell_type": "code",
   "execution_count": 229,
   "metadata": {},
   "outputs": [],
   "source": [
    "import re\n",
    "import logging\n",
    "import numpy as np\n",
    "import pandas as pd\n",
    "import multiprocessing\n",
    "\n",
    "from re import sub\n",
    "from time import time \n",
    "from unidecode import unidecode\n",
    "from gensim.models import Word2Vec\n",
    "from collections import defaultdict\n",
    "from gensim.models import KeyedVectors\n",
    "from gensim.test.utils import get_tmpfile\n",
    "from gensim.models.phrases import Phrases, Phraser\n",
    "\n",
    "from sklearn.cluster import KMeans\n",
    "from IPython.display import display\n",
    "from sklearn.feature_extraction.text import TfidfVectorizer\n",
    "from sklearn.metrics import accuracy_score, confusion_matrix, precision_score, recall_score, f1_score\n",
    "\n",
    "logging.basicConfig(format=\"%(levelname)s - %(asctime)s: %(message)s\", datefmt= '%H:%M:%S', level=logging.INFO)\n"
   ]
  },
  {
   "cell_type": "code",
   "execution_count": 230,
   "metadata": {},
   "outputs": [],
   "source": [
    "df_combined = pd.read_csv('data/combined_preprocessed_comments.csv')"
   ]
  },
  {
   "cell_type": "code",
   "execution_count": 231,
   "metadata": {},
   "outputs": [
    {
     "data": {
      "text/plain": [
       "'protest non voters worst type privileged people. believing allowing worse outcome single issue get worse non vote exact opposite trying help because.'"
      ]
     },
     "execution_count": 231,
     "metadata": {},
     "output_type": "execute_result"
    }
   ],
   "source": [
    "df_combined['comment_no_stopwords'][1]"
   ]
  },
  {
   "cell_type": "code",
   "execution_count": 232,
   "metadata": {},
   "outputs": [],
   "source": [
    "df_cleaned = df_combined.dropna().drop_duplicates().reset_index(drop=True)"
   ]
  },
  {
   "cell_type": "code",
   "execution_count": 233,
   "metadata": {},
   "outputs": [],
   "source": [
    "def text_to_word_list(text, remove_polish_letters):\n",
    "    ''' Pre process and convert texts to a list of words \n",
    "    method inspired by method from eliorc github repo: https://github.com/eliorc/Medium/blob/master/MaLSTM.ipynb'''\n",
    "    text = str(text)\n",
    "    text = text.lower()\n",
    "\n",
    "    # Clean the text\n",
    "    text = sub(r\"[^A-Za-z0-9^,!?.\\/'+]\", \" \", text)\n",
    "    text = sub(r\"\\+\", \" plus \", text)\n",
    "    text = sub(r\",\", \" \", text)\n",
    "    text = sub(r\"\\.\", \" \", text)\n",
    "    text = sub(r\"!\", \" ! \", text)\n",
    "    text = sub(r\"\\?\", \" ? \", text)\n",
    "    text = sub(r\"'\", \" \", text)\n",
    "    text = sub(r\":\", \" : \", text)\n",
    "    text = sub(r\"\\s{2,}\", \" \", text)\n",
    "\n",
    "    text = text.split()\n",
    "\n",
    "    return text "
   ]
  },
  {
   "cell_type": "code",
   "execution_count": 234,
   "metadata": {},
   "outputs": [],
   "source": [
    "df_cleaned['comment_no_stopwords_list'] = df_cleaned['comment_no_stopwords'].apply(lambda x: text_to_word_list(x, unidecode))\n",
    "df_cleaned['comment_no_stopwords'] = df_cleaned['comment_no_stopwords'].apply(lambda x: text_to_word_list(x, unidecode))\n",
    "\n"
   ]
  },
  {
   "cell_type": "code",
   "execution_count": 235,
   "metadata": {},
   "outputs": [],
   "source": [
    "df_model = df_cleaned.copy()"
   ]
  },
  {
   "cell_type": "code",
   "execution_count": 236,
   "metadata": {},
   "outputs": [
    {
     "name": "stderr",
     "output_type": "stream",
     "text": [
      "INFO - 17:23:07: collecting all words and their counts\n",
      "INFO - 17:23:07: PROGRESS: at sentence #0, processed 0 words and 0 word types\n",
      "INFO - 17:23:08: collected 208185 token types (unigram + bigrams) from a corpus of 257100 words and 13315 sentences\n",
      "INFO - 17:23:08: merged Phrases<208185 vocab, min_count=1, threshold=10.0, max_vocab_size=40000000>\n",
      "INFO - 17:23:08: Phrases lifecycle event {'msg': 'built Phrases<208185 vocab, min_count=1, threshold=10.0, max_vocab_size=40000000> in 1.25s', 'datetime': '2024-12-05T17:23:08.882032', 'gensim': '4.3.3', 'python': '3.11.9 (main, Apr 19 2024, 11:44:45) [Clang 14.0.6 ]', 'platform': 'macOS-10.16-x86_64-i386-64bit', 'event': 'created'}\n",
      "INFO - 17:23:08: exporting phrases from Phrases<208185 vocab, min_count=1, threshold=10.0, max_vocab_size=40000000>\n",
      "INFO - 17:23:10: FrozenPhrases lifecycle event {'msg': 'exported FrozenPhrases<10504 phrases, min_count=1, threshold=10.0> from Phrases<208185 vocab, min_count=1, threshold=10.0, max_vocab_size=40000000> in 1.27s', 'datetime': '2024-12-05T17:23:10.267135', 'gensim': '4.3.3', 'python': '3.11.9 (main, Apr 19 2024, 11:44:45) [Clang 14.0.6 ]', 'platform': 'macOS-10.16-x86_64-i386-64bit', 'event': 'created'}\n"
     ]
    },
    {
     "data": {
      "text/plain": [
       "['protest',\n",
       " 'non_voters',\n",
       " 'worst',\n",
       " 'type',\n",
       " 'privileged',\n",
       " 'people',\n",
       " 'believing',\n",
       " 'allowing',\n",
       " 'worse',\n",
       " 'outcome',\n",
       " 'single_issue',\n",
       " 'get',\n",
       " 'worse',\n",
       " 'non',\n",
       " 'vote',\n",
       " 'exact_opposite',\n",
       " 'trying_help',\n",
       " 'because']"
      ]
     },
     "execution_count": 236,
     "metadata": {},
     "output_type": "execute_result"
    }
   ],
   "source": [
    "sent = [row for row in df_model['comment_no_stopwords']]\n",
    "phrases = Phrases(sent, min_count=1, progress_per=50000)\n",
    "bigram = Phraser(phrases)\n",
    "sentences = bigram[sent]\n",
    "sentences[1]"
   ]
  },
  {
   "cell_type": "code",
   "execution_count": 237,
   "metadata": {},
   "outputs": [
    {
     "name": "stderr",
     "output_type": "stream",
     "text": [
      "INFO - 17:23:10: Word2Vec lifecycle event {'params': 'Word2Vec<vocab=0, vector_size=300, alpha=0.03>', 'datetime': '2024-12-05T17:23:10.328737', 'gensim': '4.3.3', 'python': '3.11.9 (main, Apr 19 2024, 11:44:45) [Clang 14.0.6 ]', 'platform': 'macOS-10.16-x86_64-i386-64bit', 'event': 'created'}\n",
      "INFO - 17:23:10: collecting all words and their counts\n",
      "INFO - 17:23:10: PROGRESS: at sentence #0, processed 0 words, keeping 0 word types\n"
     ]
    },
    {
     "name": "stderr",
     "output_type": "stream",
     "text": [
      "INFO - 17:23:11: collected 30215 word types from a corpus of 223065 raw words and 13315 sentences\n",
      "INFO - 17:23:11: Creating a fresh vocabulary\n",
      "INFO - 17:23:11: Word2Vec lifecycle event {'msg': 'effective_min_count=3 retains 11537 unique words (38.18% of original 30215, drops 18678)', 'datetime': '2024-12-05T17:23:11.293753', 'gensim': '4.3.3', 'python': '3.11.9 (main, Apr 19 2024, 11:44:45) [Clang 14.0.6 ]', 'platform': 'macOS-10.16-x86_64-i386-64bit', 'event': 'prepare_vocab'}\n",
      "INFO - 17:23:11: Word2Vec lifecycle event {'msg': 'effective_min_count=3 leaves 196229 word corpus (87.97% of original 223065, drops 26836)', 'datetime': '2024-12-05T17:23:11.294892', 'gensim': '4.3.3', 'python': '3.11.9 (main, Apr 19 2024, 11:44:45) [Clang 14.0.6 ]', 'platform': 'macOS-10.16-x86_64-i386-64bit', 'event': 'prepare_vocab'}\n",
      "INFO - 17:23:11: deleting the raw counts dictionary of 30215 items\n",
      "INFO - 17:23:11: sample=1e-05 downsamples 5676 most-common words\n",
      "INFO - 17:23:11: Word2Vec lifecycle event {'msg': 'downsampling leaves estimated 68446.00235713553 word corpus (34.9%% of prior 196229)', 'datetime': '2024-12-05T17:23:11.438610', 'gensim': '4.3.3', 'python': '3.11.9 (main, Apr 19 2024, 11:44:45) [Clang 14.0.6 ]', 'platform': 'macOS-10.16-x86_64-i386-64bit', 'event': 'prepare_vocab'}\n",
      "INFO - 17:23:11: estimated required memory for 11537 words and 300 dimensions: 33457300 bytes\n",
      "INFO - 17:23:11: resetting layer weights\n",
      "INFO - 17:23:11: Word2Vec lifecycle event {'update': False, 'trim_rule': 'None', 'datetime': '2024-12-05T17:23:11.740644', 'gensim': '4.3.3', 'python': '3.11.9 (main, Apr 19 2024, 11:44:45) [Clang 14.0.6 ]', 'platform': 'macOS-10.16-x86_64-i386-64bit', 'event': 'build_vocab'}\n"
     ]
    },
    {
     "name": "stdout",
     "output_type": "stream",
     "text": [
      "Vocab creation time: 0.02 mins\n"
     ]
    }
   ],
   "source": [
    "w2v_model = Word2Vec(min_count=3,\n",
    "                     window=4,\n",
    "                     vector_size=300,\n",
    "                     sample=1e-5, \n",
    "                     alpha=0.03, \n",
    "                     min_alpha=0.0007, \n",
    "                     negative=20,\n",
    "                     workers=multiprocessing.cpu_count()-1)\n",
    "\n",
    "start = time()\n",
    "\n",
    "w2v_model.build_vocab(sentences, progress_per=50000)\n",
    "\n",
    "print('Vocab creation time: {} mins'.format(round((time() - start) / 60, 2)))"
   ]
  },
  {
   "cell_type": "code",
   "execution_count": 238,
   "metadata": {},
   "outputs": [
    {
     "name": "stderr",
     "output_type": "stream",
     "text": [
      "INFO - 17:23:11: Word2Vec lifecycle event {'msg': 'training model with 3 workers on 11537 vocabulary and 300 features, using sg=0 hs=0 sample=1e-05 negative=20 window=4 shrink_windows=True', 'datetime': '2024-12-05T17:23:11.759530', 'gensim': '4.3.3', 'python': '3.11.9 (main, Apr 19 2024, 11:44:45) [Clang 14.0.6 ]', 'platform': 'macOS-10.16-x86_64-i386-64bit', 'event': 'train'}\n",
      "INFO - 17:23:12: EPOCH 0 - PROGRESS: at 100.00% examples, 67956 words/s, in_qsize 0, out_qsize 1\n",
      "INFO - 17:23:12: EPOCH 0: training on 223065 raw words (68197 effective words) took 1.0s, 67888 effective words/s\n"
     ]
    },
    {
     "name": "stderr",
     "output_type": "stream",
     "text": [
      "INFO - 17:23:13: EPOCH 1 - PROGRESS: at 83.90% examples, 60969 words/s, in_qsize 0, out_qsize 0\n",
      "INFO - 17:23:13: EPOCH 1: training on 223065 raw words (68432 effective words) took 1.2s, 58857 effective words/s\n",
      "INFO - 17:23:14: EPOCH 2 - PROGRESS: at 83.90% examples, 59723 words/s, in_qsize 0, out_qsize 0\n",
      "INFO - 17:23:15: EPOCH 2: training on 223065 raw words (68474 effective words) took 1.1s, 61848 effective words/s\n",
      "INFO - 17:23:16: EPOCH 3 - PROGRESS: at 100.00% examples, 67495 words/s, in_qsize 0, out_qsize 1\n",
      "INFO - 17:23:16: EPOCH 3: training on 223065 raw words (68020 effective words) took 1.0s, 67403 effective words/s\n",
      "INFO - 17:23:17: EPOCH 4 - PROGRESS: at 78.72% examples, 57043 words/s, in_qsize 0, out_qsize 0\n",
      "INFO - 17:23:17: EPOCH 4: training on 223065 raw words (68306 effective words) took 1.1s, 63332 effective words/s\n",
      "INFO - 17:23:18: EPOCH 5 - PROGRESS: at 57.51% examples, 39836 words/s, in_qsize 0, out_qsize 0\n",
      "INFO - 17:23:18: EPOCH 5: training on 223065 raw words (68418 effective words) took 1.5s, 44327 effective words/s\n",
      "INFO - 17:23:19: EPOCH 6 - PROGRESS: at 93.17% examples, 64091 words/s, in_qsize 1, out_qsize 1\n",
      "INFO - 17:23:19: EPOCH 6: training on 223065 raw words (68287 effective words) took 1.1s, 62850 effective words/s\n",
      "INFO - 17:23:21: EPOCH 7 - PROGRESS: at 60.57% examples, 42754 words/s, in_qsize 1, out_qsize 0\n",
      "INFO - 17:23:21: EPOCH 7: training on 223065 raw words (68394 effective words) took 1.4s, 47330 effective words/s\n",
      "INFO - 17:23:22: EPOCH 8 - PROGRESS: at 68.49% examples, 43459 words/s, in_qsize 0, out_qsize 1\n",
      "INFO - 17:23:22: EPOCH 8: training on 223065 raw words (68581 effective words) took 1.5s, 45721 effective words/s\n",
      "INFO - 17:23:24: EPOCH 9 - PROGRESS: at 57.51% examples, 37255 words/s, in_qsize 0, out_qsize 0\n",
      "INFO - 17:23:24: EPOCH 9: training on 223065 raw words (68640 effective words) took 1.6s, 42883 effective words/s\n",
      "INFO - 17:23:25: EPOCH 10 - PROGRESS: at 63.30% examples, 47279 words/s, in_qsize 1, out_qsize 0\n",
      "INFO - 17:23:25: EPOCH 10: training on 223065 raw words (68447 effective words) took 1.3s, 53522 effective words/s\n",
      "INFO - 17:23:26: EPOCH 11 - PROGRESS: at 57.51% examples, 41482 words/s, in_qsize 0, out_qsize 0\n",
      "INFO - 17:23:27: EPOCH 11: training on 223065 raw words (68578 effective words) took 1.4s, 49556 effective words/s\n",
      "INFO - 17:23:28: EPOCH 12 - PROGRESS: at 73.20% examples, 53901 words/s, in_qsize 0, out_qsize 0\n",
      "INFO - 17:23:28: EPOCH 12: training on 223065 raw words (68549 effective words) took 1.2s, 58015 effective words/s\n",
      "INFO - 17:23:29: EPOCH 13 - PROGRESS: at 90.18% examples, 63966 words/s, in_qsize 2, out_qsize 0\n",
      "INFO - 17:23:29: EPOCH 13: training on 223065 raw words (68426 effective words) took 1.1s, 63970 effective words/s\n",
      "INFO - 17:23:30: EPOCH 14: training on 223065 raw words (68478 effective words) took 0.9s, 77113 effective words/s\n",
      "INFO - 17:23:31: EPOCH 15 - PROGRESS: at 73.22% examples, 53963 words/s, in_qsize 1, out_qsize 1\n",
      "INFO - 17:23:31: EPOCH 15: training on 223065 raw words (68116 effective words) took 1.2s, 58721 effective words/s\n",
      "INFO - 17:23:32: EPOCH 16 - PROGRESS: at 73.22% examples, 54027 words/s, in_qsize 0, out_qsize 0\n",
      "INFO - 17:23:32: EPOCH 16: training on 223065 raw words (68627 effective words) took 1.3s, 52149 effective words/s\n",
      "INFO - 17:23:33: EPOCH 17: training on 223065 raw words (68335 effective words) took 1.0s, 71145 effective words/s\n",
      "INFO - 17:23:34: EPOCH 18 - PROGRESS: at 63.30% examples, 48495 words/s, in_qsize 0, out_qsize 0\n",
      "INFO - 17:23:35: EPOCH 18: training on 223065 raw words (68930 effective words) took 1.2s, 56821 effective words/s\n",
      "INFO - 17:23:35: EPOCH 19: training on 223065 raw words (68418 effective words) took 0.6s, 107660 effective words/s\n",
      "INFO - 17:23:36: EPOCH 20: training on 223065 raw words (68405 effective words) took 0.7s, 98968 effective words/s\n",
      "INFO - 17:23:40: EPOCH 21 - PROGRESS: at 60.23% examples, 11470 words/s, in_qsize 0, out_qsize 1\n",
      "INFO - 17:23:40: EPOCH 21: training on 223065 raw words (68437 effective words) took 4.3s, 15946 effective words/s\n",
      "INFO - 17:23:41: EPOCH 22: training on 223065 raw words (68307 effective words) took 0.6s, 106396 effective words/s\n",
      "INFO - 17:23:42: EPOCH 23: training on 223065 raw words (68490 effective words) took 0.6s, 118767 effective words/s\n",
      "INFO - 17:23:42: EPOCH 24: training on 223065 raw words (68368 effective words) took 0.6s, 118002 effective words/s\n",
      "INFO - 17:23:43: EPOCH 25: training on 223065 raw words (68608 effective words) took 0.6s, 118797 effective words/s\n",
      "INFO - 17:23:43: EPOCH 26: training on 223065 raw words (68432 effective words) took 0.6s, 116143 effective words/s\n",
      "INFO - 17:23:44: EPOCH 27: training on 223065 raw words (68439 effective words) took 0.7s, 93453 effective words/s\n",
      "INFO - 17:23:45: EPOCH 28: training on 223065 raw words (68502 effective words) took 0.5s, 149260 effective words/s\n",
      "INFO - 17:23:45: EPOCH 29: training on 223065 raw words (68615 effective words) took 0.5s, 141134 effective words/s\n",
      "INFO - 17:23:45: Word2Vec lifecycle event {'msg': 'training on 6691950 raw words (2053256 effective words) took 33.7s, 60848 effective words/s', 'datetime': '2024-12-05T17:23:45.505955', 'gensim': '4.3.3', 'python': '3.11.9 (main, Apr 19 2024, 11:44:45) [Clang 14.0.6 ]', 'platform': 'macOS-10.16-x86_64-i386-64bit', 'event': 'train'}\n",
      "/var/folders/rx/6dprcpwx2sb5dqjsx9z7x8g00000gn/T/ipykernel_15763/397523926.py:7: DeprecationWarning: Call to deprecated `init_sims` (Gensim 4.0.0 implemented internal optimizations that make calls to init_sims() unnecessary. init_sims() is now obsoleted and will be completely removed in future versions. See https://github.com/RaRe-Technologies/gensim/wiki/Migrating-from-Gensim-3.x-to-4).\n",
      "  w2v_model.init_sims(replace=True)\n",
      "WARNING - 17:23:45: destructive init_sims(replace=True) deprecated & no longer required for space-efficiency\n"
     ]
    },
    {
     "name": "stdout",
     "output_type": "stream",
     "text": [
      "Time to train the model: 0.56 mins\n"
     ]
    }
   ],
   "source": [
    "start = time()\n",
    "\n",
    "w2v_model.train(sentences, total_examples=w2v_model.corpus_count, epochs=30, report_delay=1)\n",
    "\n",
    "print('Time to train the model: {} mins'.format(round((time() - start) / 60, 2)))\n",
    "\n",
    "w2v_model.init_sims(replace=True)"
   ]
  },
  {
   "cell_type": "code",
   "execution_count": 239,
   "metadata": {},
   "outputs": [
    {
     "name": "stderr",
     "output_type": "stream",
     "text": [
      "INFO - 17:23:45: Word2Vec lifecycle event {'fname_or_handle': 'data/word2vec.model', 'separately': 'None', 'sep_limit': 10485760, 'ignore': frozenset(), 'datetime': '2024-12-05T17:23:45.663035', 'gensim': '4.3.3', 'python': '3.11.9 (main, Apr 19 2024, 11:44:45) [Clang 14.0.6 ]', 'platform': 'macOS-10.16-x86_64-i386-64bit', 'event': 'saving'}\n",
      "INFO - 17:23:45: not storing attribute cum_table\n",
      "INFO - 17:23:45: saved data/word2vec.model\n"
     ]
    }
   ],
   "source": [
    "w2v_model.save(\"data/word2vec.model\")"
   ]
  },
  {
   "cell_type": "code",
   "execution_count": 240,
   "metadata": {},
   "outputs": [],
   "source": [
    "df_model_export = df_model.copy()\n",
    "df_model_export['old_comment_no_stopwords'] = df_model_export['comment_no_stopwords']\n",
    "df_model_export.old_comment_no_stopwords = df_model_export.old_comment_no_stopwords.str.join(' ')\n",
    "df_model_export['comment_no_stopwords'] = df_model_export['comment_no_stopwords'].apply(lambda x: ' '.join(bigram[x]))\n",
    "\n",
    "df_model_export.to_csv(\"data/cleaned_comments_preprocessed.csv\", index=False)"
   ]
  },
  {
   "cell_type": "code",
   "execution_count": 241,
   "metadata": {},
   "outputs": [
    {
     "name": "stderr",
     "output_type": "stream",
     "text": [
      "INFO - 17:23:49: loading Word2Vec object from data/word2vec.model\n",
      "INFO - 17:23:49: loading wv recursively from data/word2vec.model.wv.* with mmap=None\n",
      "INFO - 17:23:49: setting ignored attribute cum_table to None\n",
      "INFO - 17:23:49: Word2Vec lifecycle event {'fname': 'data/word2vec.model', 'datetime': '2024-12-05T17:23:49.706170', 'gensim': '4.3.3', 'python': '3.11.9 (main, Apr 19 2024, 11:44:45) [Clang 14.0.6 ]', 'platform': 'macOS-10.16-x86_64-i386-64bit', 'event': 'loaded'}\n"
     ]
    }
   ],
   "source": [
    "word_vectors = Word2Vec.load(\"data/word2vec.model\").wv"
   ]
  },
  {
   "cell_type": "code",
   "execution_count": 242,
   "metadata": {},
   "outputs": [],
   "source": [
    "model = KMeans(n_clusters=2, max_iter=1000, random_state=True, n_init=50).fit(X=word_vectors.vectors.astype('double'))"
   ]
  },
  {
   "cell_type": "code",
   "execution_count": 243,
   "metadata": {},
   "outputs": [
    {
     "data": {
      "text/plain": [
       "[('hegemony', 0.9998778700828552),\n",
       " ('really_bad', 0.9998763203620911),\n",
       " ('symptom', 0.9998756647109985),\n",
       " ('releases', 0.9998738765716553),\n",
       " ('joe', 0.9998737573623657),\n",
       " ('emerged', 0.9998735189437866),\n",
       " ('chance', 0.9998730421066284),\n",
       " ('anywhere', 0.9998727440834045),\n",
       " ('shoot', 0.9998718500137329),\n",
       " ('plus', 0.9998712539672852),\n",
       " ('around', 0.9998712539672852),\n",
       " ('jewish_tradition', 0.9998704195022583),\n",
       " ('foreign_military', 0.9998703002929688),\n",
       " ('homeless', 0.9998701810836792),\n",
       " ('organized_crime', 0.9998698234558105),\n",
       " ('perhaps', 0.9998695254325867),\n",
       " ('reins', 0.9998692274093628),\n",
       " ('argue', 0.9998692274093628),\n",
       " ('stock', 0.9998688697814941),\n",
       " ('synagogues', 0.9998680353164673),\n",
       " ('recognizing', 0.9998680353164673),\n",
       " ('years_ago', 0.9998679161071777),\n",
       " ('letting', 0.9998676776885986),\n",
       " ('gain', 0.9998674392700195),\n",
       " ('looks_good', 0.9998673796653748),\n",
       " ('65', 0.9998672604560852),\n",
       " ('bullets', 0.9998670816421509),\n",
       " ('follow_through', 0.9998669624328613),\n",
       " ('2021', 0.9998669028282166),\n",
       " ('stupid', 0.9998667240142822),\n",
       " ('yeah', 0.9998667240142822),\n",
       " ('native', 0.9998667240142822),\n",
       " ('ironic', 0.9998666644096375),\n",
       " ('difficult', 0.9998666048049927),\n",
       " ('rating', 0.9998660087585449),\n",
       " ('business_usual', 0.9998658895492554),\n",
       " ('second', 0.9998658895492554),\n",
       " ('100_agree', 0.9998657703399658),\n",
       " ('refuse', 0.999865710735321),\n",
       " ('non_western', 0.9998655319213867),\n",
       " ('house_speaker', 0.9998652935028076),\n",
       " ('mitigate', 0.9998650550842285),\n",
       " ('unprecedented', 0.9998649954795837),\n",
       " ('countless', 0.9998648166656494),\n",
       " ('insane', 0.9998647570610046),\n",
       " ('surprised', 0.9998647570610046),\n",
       " ('morals', 0.9998646974563599),\n",
       " ('taken_hostage', 0.9998646974563599),\n",
       " ('self', 0.9998645782470703),\n",
       " ('votes', 0.9998645782470703)]"
      ]
     },
     "execution_count": 243,
     "metadata": {},
     "output_type": "execute_result"
    }
   ],
   "source": [
    "word_vectors.similar_by_vector(model.cluster_centers_[0], topn=50, restrict_vocab=None)"
   ]
  },
  {
   "cell_type": "code",
   "execution_count": 244,
   "metadata": {},
   "outputs": [],
   "source": [
    "positive_cluster_index = 0\n",
    "positive_cluster_center = model.cluster_centers_[positive_cluster_index]\n",
    "negative_cluster_center = model.cluster_centers_[1-positive_cluster_index]"
   ]
  },
  {
   "cell_type": "code",
   "execution_count": 245,
   "metadata": {},
   "outputs": [],
   "source": [
    "words = pd.DataFrame(word_vectors.index_to_key)\n",
    "words.columns = ['words']\n",
    "words['vectors'] = words.words.apply(lambda x: word_vectors[f'{x}'])\n",
    "words['cluster'] = words.vectors.apply(lambda x: model.predict([np.array(x)]))\n",
    "words.cluster = words.cluster.apply(lambda x: x[0])"
   ]
  },
  {
   "cell_type": "code",
   "execution_count": 246,
   "metadata": {},
   "outputs": [],
   "source": [
    "words['cluster_value'] = [1 if i==positive_cluster_index else -1 for i in words.cluster]\n",
    "words['closeness_score'] = words.apply(lambda x: 1/(model.transform([x.vectors]).min()), axis=1)\n",
    "words['sentiment_coeff'] = words.closeness_score * words.cluster_value"
   ]
  },
  {
   "cell_type": "code",
   "execution_count": 247,
   "metadata": {},
   "outputs": [],
   "source": [
    "words[['words', 'sentiment_coeff']].to_csv('data/sentiment_dictionary.csv', index=False)"
   ]
  },
  {
   "cell_type": "code",
   "execution_count": 248,
   "metadata": {},
   "outputs": [],
   "source": [
    "sentiment_map = pd.read_csv('data/sentiment_dictionary.csv')\n",
    "sentiment_dict = dict(zip(sentiment_map.words.values, sentiment_map.sentiment_coeff.values))"
   ]
  },
  {
   "cell_type": "code",
   "execution_count": 255,
   "metadata": {},
   "outputs": [
    {
     "data": {
      "text/html": [
       "<div>\n",
       "<style scoped>\n",
       "    .dataframe tbody tr th:only-of-type {\n",
       "        vertical-align: middle;\n",
       "    }\n",
       "\n",
       "    .dataframe tbody tr th {\n",
       "        vertical-align: top;\n",
       "    }\n",
       "\n",
       "    .dataframe thead th {\n",
       "        text-align: right;\n",
       "    }\n",
       "</style>\n",
       "<table border=\"1\" class=\"dataframe\">\n",
       "  <thead>\n",
       "    <tr style=\"text-align: right;\">\n",
       "      <th></th>\n",
       "      <th>Unnamed: 0</th>\n",
       "      <th>created_date</th>\n",
       "      <th>subreddit_id</th>\n",
       "      <th>search_query</th>\n",
       "      <th>post_id</th>\n",
       "      <th>comment_id</th>\n",
       "      <th>post_title</th>\n",
       "      <th>comment_original</th>\n",
       "      <th>comment_processed</th>\n",
       "      <th>comment_no_stopwords</th>\n",
       "      <th>upvotes</th>\n",
       "      <th>post_url</th>\n",
       "      <th>comment_url</th>\n",
       "      <th>comment_no_stopwords_list</th>\n",
       "      <th>old_comment_no_stopwords</th>\n",
       "    </tr>\n",
       "  </thead>\n",
       "  <tbody>\n",
       "    <tr>\n",
       "      <th>0</th>\n",
       "      <td>0</td>\n",
       "      <td>2024-10-27 15:32:33</td>\n",
       "      <td>politics</td>\n",
       "      <td>Israel</td>\n",
       "      <td>1gdcy25</td>\n",
       "      <td>lu0s0st</td>\n",
       "      <td>Bernie Sanders to voters skipping presidential...</td>\n",
       "      <td>News flash, Trump is worse on every single vot...</td>\n",
       "      <td>news flash, trump is worse on every single vot...</td>\n",
       "      <td>news flash trump_worse every_single voting_iss...</td>\n",
       "      <td>8981</td>\n",
       "      <td>https://www.reddit.com/r/politics/comments/1gd...</td>\n",
       "      <td>https://www.reddit.com/r/politics/comments/1gd...</td>\n",
       "      <td>['news', 'flash', 'trump', 'worse', 'every', '...</td>\n",
       "      <td>news flash trump worse every single voting iss...</td>\n",
       "    </tr>\n",
       "    <tr>\n",
       "      <th>1</th>\n",
       "      <td>1</td>\n",
       "      <td>2024-10-27 15:08:10</td>\n",
       "      <td>politics</td>\n",
       "      <td>Israel</td>\n",
       "      <td>1gdcy25</td>\n",
       "      <td>lu0nkvc</td>\n",
       "      <td>Bernie Sanders to voters skipping presidential...</td>\n",
       "      <td>Protest non-voters are some of the worst type ...</td>\n",
       "      <td>protest non voters are some of the worst type ...</td>\n",
       "      <td>protest non_voters worst type privileged peopl...</td>\n",
       "      <td>4186</td>\n",
       "      <td>https://www.reddit.com/r/politics/comments/1gd...</td>\n",
       "      <td>https://www.reddit.com/r/politics/comments/1gd...</td>\n",
       "      <td>['protest', 'non', 'voters', 'worst', 'type', ...</td>\n",
       "      <td>protest non voters worst type privileged peopl...</td>\n",
       "    </tr>\n",
       "    <tr>\n",
       "      <th>2</th>\n",
       "      <td>2</td>\n",
       "      <td>2024-10-27 15:38:28</td>\n",
       "      <td>politics</td>\n",
       "      <td>Israel</td>\n",
       "      <td>1gdcy25</td>\n",
       "      <td>lu0t4k2</td>\n",
       "      <td>Bernie Sanders to voters skipping presidential...</td>\n",
       "      <td>Just fucking vote. Local, state and federal. \\...</td>\n",
       "      <td>just fucking vote. local, state and federal. t...</td>\n",
       "      <td>fucking vote_local state_federal world mess ye...</td>\n",
       "      <td>3971</td>\n",
       "      <td>https://www.reddit.com/r/politics/comments/1gd...</td>\n",
       "      <td>https://www.reddit.com/r/politics/comments/1gd...</td>\n",
       "      <td>['fucking', 'vote', 'local', 'state', 'federal...</td>\n",
       "      <td>fucking vote local state federal world mess ye...</td>\n",
       "    </tr>\n",
       "    <tr>\n",
       "      <th>3</th>\n",
       "      <td>3</td>\n",
       "      <td>2024-10-27 15:18:36</td>\n",
       "      <td>politics</td>\n",
       "      <td>Israel</td>\n",
       "      <td>1gdcy25</td>\n",
       "      <td>lu0pgoz</td>\n",
       "      <td>Bernie Sanders to voters skipping presidential...</td>\n",
       "      <td>Trump wants Israel to annex Palestine.\\n\\nHarr...</td>\n",
       "      <td>trump wants israel to annex palestine. harris ...</td>\n",
       "      <td>trump wants israel annex palestine harris want...</td>\n",
       "      <td>1394</td>\n",
       "      <td>https://www.reddit.com/r/politics/comments/1gd...</td>\n",
       "      <td>https://www.reddit.com/r/politics/comments/1gd...</td>\n",
       "      <td>['trump', 'wants', 'israel', 'annex', 'palesti...</td>\n",
       "      <td>trump wants israel annex palestine harris want...</td>\n",
       "    </tr>\n",
       "    <tr>\n",
       "      <th>4</th>\n",
       "      <td>4</td>\n",
       "      <td>2024-10-27 18:38:06</td>\n",
       "      <td>politics</td>\n",
       "      <td>Israel</td>\n",
       "      <td>1gdcy25</td>\n",
       "      <td>lu1sukf</td>\n",
       "      <td>Bernie Sanders to voters skipping presidential...</td>\n",
       "      <td>This is just objectively true.\\n\\n&amp;nbsp;\\n\\nIf...</td>\n",
       "      <td>this is just objectively true. nbsp if you sup...</td>\n",
       "      <td>objectively true nbsp support harris probably ...</td>\n",
       "      <td>887</td>\n",
       "      <td>https://www.reddit.com/r/politics/comments/1gd...</td>\n",
       "      <td>https://www.reddit.com/r/politics/comments/1gd...</td>\n",
       "      <td>['objectively', 'true', 'nbsp', 'support', 'ha...</td>\n",
       "      <td>objectively true nbsp support harris probably ...</td>\n",
       "    </tr>\n",
       "    <tr>\n",
       "      <th>...</th>\n",
       "      <td>...</td>\n",
       "      <td>...</td>\n",
       "      <td>...</td>\n",
       "      <td>...</td>\n",
       "      <td>...</td>\n",
       "      <td>...</td>\n",
       "      <td>...</td>\n",
       "      <td>...</td>\n",
       "      <td>...</td>\n",
       "      <td>...</td>\n",
       "      <td>...</td>\n",
       "      <td>...</td>\n",
       "      <td>...</td>\n",
       "      <td>...</td>\n",
       "      <td>...</td>\n",
       "    </tr>\n",
       "    <tr>\n",
       "      <th>13310</th>\n",
       "      <td>13313</td>\n",
       "      <td>2023-12-24 02:11:58</td>\n",
       "      <td>baking</td>\n",
       "      <td>cake</td>\n",
       "      <td>18phshr</td>\n",
       "      <td>keouy7k</td>\n",
       "      <td>Cross section of my mums Christmas cake. SHE’S...</td>\n",
       "      <td>Made mine September 10th and have been feeding...</td>\n",
       "      <td>made mine september 10th and have been feeding...</td>\n",
       "      <td>made mine september 10th feeding brandy every_...</td>\n",
       "      <td>62</td>\n",
       "      <td>https://www.reddit.com/r/Baking/comments/18phs...</td>\n",
       "      <td>https://www.reddit.com/r/Baking/comments/18phs...</td>\n",
       "      <td>['made', 'mine', 'september', '10th', 'feeding...</td>\n",
       "      <td>made mine september 10th feeding brandy every ...</td>\n",
       "    </tr>\n",
       "    <tr>\n",
       "      <th>13311</th>\n",
       "      <td>13314</td>\n",
       "      <td>2023-12-24 01:26:12</td>\n",
       "      <td>baking</td>\n",
       "      <td>cake</td>\n",
       "      <td>18phshr</td>\n",
       "      <td>keop0cf</td>\n",
       "      <td>Cross section of my mums Christmas cake. SHE’S...</td>\n",
       "      <td>I found a fifteen year old fossilised one, wer...</td>\n",
       "      <td>i found a fifteen year old fossilised one, wer...</td>\n",
       "      <td>found fifteen year_old fossilised one going th...</td>\n",
       "      <td>51</td>\n",
       "      <td>https://www.reddit.com/r/Baking/comments/18phs...</td>\n",
       "      <td>https://www.reddit.com/r/Baking/comments/18phs...</td>\n",
       "      <td>['found', 'fifteen', 'year', 'old', 'fossilise...</td>\n",
       "      <td>found fifteen year old fossilised one going th...</td>\n",
       "    </tr>\n",
       "    <tr>\n",
       "      <th>13312</th>\n",
       "      <td>13315</td>\n",
       "      <td>2023-12-24 00:02:00</td>\n",
       "      <td>baking</td>\n",
       "      <td>cake</td>\n",
       "      <td>18phshr</td>\n",
       "      <td>keodw23</td>\n",
       "      <td>Cross section of my mums Christmas cake. SHE’S...</td>\n",
       "      <td>So jealous!! I want to make a chocolate and bo...</td>\n",
       "      <td>so jealous!! i want to make a chocolate and bo...</td>\n",
       "      <td>jealous_! ! want make chocolate bourbon cake n...</td>\n",
       "      <td>51</td>\n",
       "      <td>https://www.reddit.com/r/Baking/comments/18phs...</td>\n",
       "      <td>https://www.reddit.com/r/Baking/comments/18phs...</td>\n",
       "      <td>['jealous', '!', '!', 'want', 'make', 'chocola...</td>\n",
       "      <td>jealous ! ! want make chocolate bourbon cake n...</td>\n",
       "    </tr>\n",
       "    <tr>\n",
       "      <th>13313</th>\n",
       "      <td>13316</td>\n",
       "      <td>2023-12-24 00:21:45</td>\n",
       "      <td>baking</td>\n",
       "      <td>cake</td>\n",
       "      <td>18phshr</td>\n",
       "      <td>keogj05</td>\n",
       "      <td>Cross section of my mums Christmas cake. SHE’S...</td>\n",
       "      <td>I like the plate! Any idea where you/your mom ...</td>\n",
       "      <td>i like the plate! any idea where you your mom ...</td>\n",
       "      <td>like plate ! idea mom got_from ?</td>\n",
       "      <td>42</td>\n",
       "      <td>https://www.reddit.com/r/Baking/comments/18phs...</td>\n",
       "      <td>https://www.reddit.com/r/Baking/comments/18phs...</td>\n",
       "      <td>['like', 'plate', '!', 'idea', 'mom', 'got', '...</td>\n",
       "      <td>like plate ! idea mom got from ?</td>\n",
       "    </tr>\n",
       "    <tr>\n",
       "      <th>13314</th>\n",
       "      <td>13317</td>\n",
       "      <td>2023-12-24 00:14:56</td>\n",
       "      <td>baking</td>\n",
       "      <td>cake</td>\n",
       "      <td>18phshr</td>\n",
       "      <td>keofm4n</td>\n",
       "      <td>Cross section of my mums Christmas cake. SHE’S...</td>\n",
       "      <td>I don't know how I feel about this. How do you...</td>\n",
       "      <td>i do not know how i feel about this. how do yo...</td>\n",
       "      <td>know feel this prevent bacteria ?</td>\n",
       "      <td>19</td>\n",
       "      <td>https://www.reddit.com/r/Baking/comments/18phs...</td>\n",
       "      <td>https://www.reddit.com/r/Baking/comments/18phs...</td>\n",
       "      <td>['know', 'feel', 'this', 'prevent', 'bacteria'...</td>\n",
       "      <td>know feel this prevent bacteria ?</td>\n",
       "    </tr>\n",
       "  </tbody>\n",
       "</table>\n",
       "<p>13314 rows × 15 columns</p>\n",
       "</div>"
      ],
      "text/plain": [
       "       Unnamed: 0         created_date subreddit_id search_query  post_id  \\\n",
       "0               0  2024-10-27 15:32:33     politics       Israel  1gdcy25   \n",
       "1               1  2024-10-27 15:08:10     politics       Israel  1gdcy25   \n",
       "2               2  2024-10-27 15:38:28     politics       Israel  1gdcy25   \n",
       "3               3  2024-10-27 15:18:36     politics       Israel  1gdcy25   \n",
       "4               4  2024-10-27 18:38:06     politics       Israel  1gdcy25   \n",
       "...           ...                  ...          ...          ...      ...   \n",
       "13310       13313  2023-12-24 02:11:58       baking         cake  18phshr   \n",
       "13311       13314  2023-12-24 01:26:12       baking         cake  18phshr   \n",
       "13312       13315  2023-12-24 00:02:00       baking         cake  18phshr   \n",
       "13313       13316  2023-12-24 00:21:45       baking         cake  18phshr   \n",
       "13314       13317  2023-12-24 00:14:56       baking         cake  18phshr   \n",
       "\n",
       "      comment_id                                         post_title  \\\n",
       "0        lu0s0st  Bernie Sanders to voters skipping presidential...   \n",
       "1        lu0nkvc  Bernie Sanders to voters skipping presidential...   \n",
       "2        lu0t4k2  Bernie Sanders to voters skipping presidential...   \n",
       "3        lu0pgoz  Bernie Sanders to voters skipping presidential...   \n",
       "4        lu1sukf  Bernie Sanders to voters skipping presidential...   \n",
       "...          ...                                                ...   \n",
       "13310    keouy7k  Cross section of my mums Christmas cake. SHE’S...   \n",
       "13311    keop0cf  Cross section of my mums Christmas cake. SHE’S...   \n",
       "13312    keodw23  Cross section of my mums Christmas cake. SHE’S...   \n",
       "13313    keogj05  Cross section of my mums Christmas cake. SHE’S...   \n",
       "13314    keofm4n  Cross section of my mums Christmas cake. SHE’S...   \n",
       "\n",
       "                                        comment_original  \\\n",
       "0      News flash, Trump is worse on every single vot...   \n",
       "1      Protest non-voters are some of the worst type ...   \n",
       "2      Just fucking vote. Local, state and federal. \\...   \n",
       "3      Trump wants Israel to annex Palestine.\\n\\nHarr...   \n",
       "4      This is just objectively true.\\n\\n&nbsp;\\n\\nIf...   \n",
       "...                                                  ...   \n",
       "13310  Made mine September 10th and have been feeding...   \n",
       "13311  I found a fifteen year old fossilised one, wer...   \n",
       "13312  So jealous!! I want to make a chocolate and bo...   \n",
       "13313  I like the plate! Any idea where you/your mom ...   \n",
       "13314  I don't know how I feel about this. How do you...   \n",
       "\n",
       "                                       comment_processed  \\\n",
       "0      news flash, trump is worse on every single vot...   \n",
       "1      protest non voters are some of the worst type ...   \n",
       "2      just fucking vote. local, state and federal. t...   \n",
       "3      trump wants israel to annex palestine. harris ...   \n",
       "4      this is just objectively true. nbsp if you sup...   \n",
       "...                                                  ...   \n",
       "13310  made mine september 10th and have been feeding...   \n",
       "13311  i found a fifteen year old fossilised one, wer...   \n",
       "13312  so jealous!! i want to make a chocolate and bo...   \n",
       "13313  i like the plate! any idea where you your mom ...   \n",
       "13314  i do not know how i feel about this. how do yo...   \n",
       "\n",
       "                                    comment_no_stopwords  upvotes  \\\n",
       "0      news flash trump_worse every_single voting_iss...     8981   \n",
       "1      protest non_voters worst type privileged peopl...     4186   \n",
       "2      fucking vote_local state_federal world mess ye...     3971   \n",
       "3      trump wants israel annex palestine harris want...     1394   \n",
       "4      objectively true nbsp support harris probably ...      887   \n",
       "...                                                  ...      ...   \n",
       "13310  made mine september 10th feeding brandy every_...       62   \n",
       "13311  found fifteen year_old fossilised one going th...       51   \n",
       "13312  jealous_! ! want make chocolate bourbon cake n...       51   \n",
       "13313                   like plate ! idea mom got_from ?       42   \n",
       "13314                  know feel this prevent bacteria ?       19   \n",
       "\n",
       "                                                post_url  \\\n",
       "0      https://www.reddit.com/r/politics/comments/1gd...   \n",
       "1      https://www.reddit.com/r/politics/comments/1gd...   \n",
       "2      https://www.reddit.com/r/politics/comments/1gd...   \n",
       "3      https://www.reddit.com/r/politics/comments/1gd...   \n",
       "4      https://www.reddit.com/r/politics/comments/1gd...   \n",
       "...                                                  ...   \n",
       "13310  https://www.reddit.com/r/Baking/comments/18phs...   \n",
       "13311  https://www.reddit.com/r/Baking/comments/18phs...   \n",
       "13312  https://www.reddit.com/r/Baking/comments/18phs...   \n",
       "13313  https://www.reddit.com/r/Baking/comments/18phs...   \n",
       "13314  https://www.reddit.com/r/Baking/comments/18phs...   \n",
       "\n",
       "                                             comment_url  \\\n",
       "0      https://www.reddit.com/r/politics/comments/1gd...   \n",
       "1      https://www.reddit.com/r/politics/comments/1gd...   \n",
       "2      https://www.reddit.com/r/politics/comments/1gd...   \n",
       "3      https://www.reddit.com/r/politics/comments/1gd...   \n",
       "4      https://www.reddit.com/r/politics/comments/1gd...   \n",
       "...                                                  ...   \n",
       "13310  https://www.reddit.com/r/Baking/comments/18phs...   \n",
       "13311  https://www.reddit.com/r/Baking/comments/18phs...   \n",
       "13312  https://www.reddit.com/r/Baking/comments/18phs...   \n",
       "13313  https://www.reddit.com/r/Baking/comments/18phs...   \n",
       "13314  https://www.reddit.com/r/Baking/comments/18phs...   \n",
       "\n",
       "                               comment_no_stopwords_list  \\\n",
       "0      ['news', 'flash', 'trump', 'worse', 'every', '...   \n",
       "1      ['protest', 'non', 'voters', 'worst', 'type', ...   \n",
       "2      ['fucking', 'vote', 'local', 'state', 'federal...   \n",
       "3      ['trump', 'wants', 'israel', 'annex', 'palesti...   \n",
       "4      ['objectively', 'true', 'nbsp', 'support', 'ha...   \n",
       "...                                                  ...   \n",
       "13310  ['made', 'mine', 'september', '10th', 'feeding...   \n",
       "13311  ['found', 'fifteen', 'year', 'old', 'fossilise...   \n",
       "13312  ['jealous', '!', '!', 'want', 'make', 'chocola...   \n",
       "13313  ['like', 'plate', '!', 'idea', 'mom', 'got', '...   \n",
       "13314  ['know', 'feel', 'this', 'prevent', 'bacteria'...   \n",
       "\n",
       "                                old_comment_no_stopwords  \n",
       "0      news flash trump worse every single voting iss...  \n",
       "1      protest non voters worst type privileged peopl...  \n",
       "2      fucking vote local state federal world mess ye...  \n",
       "3      trump wants israel annex palestine harris want...  \n",
       "4      objectively true nbsp support harris probably ...  \n",
       "...                                                  ...  \n",
       "13310  made mine september 10th feeding brandy every ...  \n",
       "13311  found fifteen year old fossilised one going th...  \n",
       "13312  jealous ! ! want make chocolate bourbon cake n...  \n",
       "13313                   like plate ! idea mom got from ?  \n",
       "13314                  know feel this prevent bacteria ?  \n",
       "\n",
       "[13314 rows x 15 columns]"
      ]
     },
     "execution_count": 255,
     "metadata": {},
     "output_type": "execute_result"
    }
   ],
   "source": [
    "df_weighting"
   ]
  },
  {
   "cell_type": "code",
   "execution_count": 271,
   "metadata": {},
   "outputs": [
    {
     "name": "stderr",
     "output_type": "stream",
     "text": [
      "/Users/kalleleander/opt/anaconda3/envs/py311/lib/python3.11/site-packages/sklearn/feature_extraction/text.py:521: UserWarning: The parameter 'token_pattern' will not be used since 'tokenizer' is not None'\n",
      "  warnings.warn(\n"
     ]
    }
   ],
   "source": [
    "final_df = pd.read_csv(\"data/cleaned_comments_preprocessed.csv\")\n",
    "df_weighting = final_df.copy()\n",
    "df_weighting = df_weighting[df_weighting['comment_no_stopwords'].str.len()>0]\n",
    "df_weighting = df_weighting.reset_index(drop=True)\n",
    "\n",
    "tfidf = TfidfVectorizer(tokenizer=lambda y: y.split(), norm=None)\n",
    "tfidf.fit(df_weighting['comment_no_stopwords'])\n",
    "features = pd.Series(tfidf.get_feature_names_out())\n"
   ]
  },
  {
   "cell_type": "code",
   "execution_count": 272,
   "metadata": {},
   "outputs": [],
   "source": [
    "missing_words =pd.Series(['every_single'])\n",
    "features = pd.concat([features, missing_words]).reset_index(drop=True)\n",
    "transformed = tfidf.transform(df_weighting['comment_no_stopwords'])"
   ]
  },
  {
   "cell_type": "code",
   "execution_count": 273,
   "metadata": {},
   "outputs": [
    {
     "data": {
      "text/plain": [
       "(13314, 15)"
      ]
     },
     "execution_count": 273,
     "metadata": {},
     "output_type": "execute_result"
    }
   ],
   "source": [
    "df_weighting.shape"
   ]
  },
  {
   "cell_type": "code",
   "execution_count": 274,
   "metadata": {},
   "outputs": [],
   "source": [
    "def create_tfidf_dictionary(x, transformed_file, features):\n",
    "    '''\n",
    "    create dictionary for each input sentence x, where each word has assigned its tfidf score\n",
    "    \n",
    "    inspired  by function from this wonderful article: \n",
    "    https://medium.com/analytics-vidhya/automated-keyword-extraction-from-articles-using-nlp-bfd864f41b34\n",
    "    \n",
    "    x - row of dataframe, containing sentences, and their indexes,\n",
    "    transformed_file - all sentences transformed with TfidfVectorizer\n",
    "    features - names of all words in corpus used in TfidfVectorizer\n",
    "\n",
    "    '''\n",
    "    vector_coo = transformed_file[x.name].tocoo()\n",
    "    words = features.iloc[vector_coo.col].values\n",
    "    dict_from_coo = dict(zip(vector_coo.col, vector_coo.data))\n",
    "    return dict_from_coo\n",
    "\n",
    "def replace_tfidf_words(x, transformed_file, features):\n",
    "    '''\n",
    "    replacing each word with it's calculated tfidf dictionary with scores of each word\n",
    "    x - row of dataframe, containing sentences, and their indexes,\n",
    "    transformed_file - all sentences transformed with TfidfVectorizer\n",
    "    features - names of all words in corpus used in TfidfVectorizer\n",
    "    '''\n",
    "    dictionary = create_tfidf_dictionary(x, transformed_file, features)   \n",
    "    return list(map(lambda y: dictionary.get(y, 0), x['comment_no_stopwords'].split()))"
   ]
  },
  {
   "cell_type": "code",
   "execution_count": 275,
   "metadata": {},
   "outputs": [
    {
     "name": "stdout",
     "output_type": "stream",
     "text": [
      "CPU times: user 4.3 s, sys: 128 ms, total: 4.43 s\n",
      "Wall time: 5.54 s\n"
     ]
    }
   ],
   "source": [
    "%%time\n",
    "replaced_tfidf_scores = df_weighting.apply(lambda x: replace_tfidf_words(x, transformed, features), axis=1) # this step takes around 3-4 minutes minutes to calculate"
   ]
  },
  {
   "cell_type": "code",
   "execution_count": 276,
   "metadata": {},
   "outputs": [],
   "source": [
    "def replace_sentiment_words(word, sentiment_dict):\n",
    "    '''\n",
    "    replacing each word with its associated sentiment score from sentiment dict\n",
    "    '''\n",
    "    try:\n",
    "        out = sentiment_dict[word]\n",
    "    except KeyError:\n",
    "        out = 0\n",
    "    return out"
   ]
  },
  {
   "cell_type": "code",
   "execution_count": 277,
   "metadata": {},
   "outputs": [],
   "source": [
    "replaced_closeness_scores = df_weighting['comment_no_stopwords'].apply(lambda x: list(map(lambda y: replace_sentiment_words(y, sentiment_dict), x.split())))"
   ]
  },
  {
   "cell_type": "code",
   "execution_count": 282,
   "metadata": {},
   "outputs": [],
   "source": [
    "replacement_df = pd.DataFrame(data=[replaced_closeness_scores, replaced_tfidf_scores, df_weighting['comment_no_stopwords']]).T\n",
    "replacement_df.columns = ['sentiment_coeff', 'tfidf_scores', 'sentence']\n",
    "replacement_df['sentiment_rate'] = replacement_df.apply(lambda x: np.array(x.loc['sentiment_coeff']) @ np.array(x.loc['tfidf_scores']), axis=1)"
   ]
  },
  {
   "cell_type": "code",
   "execution_count": 283,
   "metadata": {},
   "outputs": [],
   "source": [
    "replacement_df['sentiment_score_unsupervised'] = replacement_df['sentiment_coeff'].apply(np.mean)"
   ]
  },
  {
   "cell_type": "code",
   "execution_count": 284,
   "metadata": {},
   "outputs": [
    {
     "data": {
      "text/plain": [
       "0        38.717833\n",
       "1        52.303687\n",
       "2        49.477101\n",
       "3        44.983651\n",
       "4        48.601446\n",
       "           ...    \n",
       "13309    40.783191\n",
       "13310    33.067769\n",
       "13311    35.218267\n",
       "13312    38.985366\n",
       "13313    41.976558\n",
       "Name: sentiment_score_unsupervised, Length: 13314, dtype: float64"
      ]
     },
     "execution_count": 284,
     "metadata": {},
     "output_type": "execute_result"
    }
   ],
   "source": [
    "replacement_df['sentiment_score_unsupervised'] "
   ]
  },
  {
   "cell_type": "code",
   "execution_count": 286,
   "metadata": {},
   "outputs": [],
   "source": [
    "df_final = pd.read_csv(\"data/cleaned_comments_preprocessed.csv\")\n",
    "df_final['sentiment_score_unsupervised'] = replacement_df['sentiment_score_unsupervised']\n",
    "\n",
    "df_final.to_csv('data/cleaned_comments_preprocessed.csv', index=False)"
   ]
  },
  {
   "cell_type": "code",
   "execution_count": null,
   "metadata": {},
   "outputs": [],
   "source": [
    "model = KMeans(n_clusters=2, max_iter=1000, random_state=True, n_init=50).fit(X=word_vectors.vectors)\n",
    "positive_cluster_center = model.cluster_centers_[0]\n",
    "negative_cluster_center = model.cluster_centers_[1]"
   ]
  },
  {
   "cell_type": "code",
   "execution_count": null,
   "metadata": {},
   "outputs": [
    {
     "data": {
      "text/plain": [
       "[('controversial', 0.9999338984489441),\n",
       " ('studies', 0.999933660030365),\n",
       " ('threatening', 0.9999331831932068),\n",
       " ('tonight', 0.999932050704956),\n",
       " ('objectively', 0.9999306797981262),\n",
       " ('latest', 0.9999306797981262),\n",
       " ('trash', 0.9999286532402039),\n",
       " ('agenda', 0.9999276995658875),\n",
       " ('attended', 0.9999263286590576),\n",
       " ('yes.', 0.9999260306358337)]"
      ]
     },
     "execution_count": 57,
     "metadata": {},
     "output_type": "execute_result"
    }
   ],
   "source": [
    "word_vectors.similar_by_vector(model.cluster_centers_[0], topn=10, restrict_vocab=None)"
   ]
  },
  {
   "cell_type": "code",
   "execution_count": null,
   "metadata": {},
   "outputs": [],
   "source": [
    "# Compute cosine similarity and apply K-Means\n",
    "cosine_matrix = cosine_similarity(embeddings)\n",
    "kmeans = KMeans(n_clusters=2, random_state=42)\n",
    "labels = kmeans.fit_predict(cosine_matrix)"
   ]
  },
  {
   "cell_type": "code",
   "execution_count": null,
   "metadata": {},
   "outputs": [],
   "source": [
    "from sklearn.decomposition import PCA\n",
    "pca = PCA(n_components=50)\n",
    "reduced_embeddings = pca.fit_transform(embeddings)"
   ]
  },
  {
   "cell_type": "code",
   "execution_count": null,
   "metadata": {},
   "outputs": [
    {
     "data": {
      "image/png": "[encoded data removed]",
      "text/plain": [
       "<Figure size 800x500 with 1 Axes>"
      ]
     },
     "metadata": {},
     "output_type": "display_data"
    }
   ],
   "source": [
    "# Range of k clusters\n",
    "k_values = range(2, 10)\n",
    "inertia = []\n",
    "\n",
    "for k in k_values:\n",
    "    kmeans = KMeans(n_clusters=k, random_state=42, n_init=10)\n",
    "    kmeans.fit(embeddings)  # Use PCA-reduced embeddings for faster computation\n",
    "    inertia.append(kmeans.inertia_)\n",
    "\n",
    "# Plot inertia vs. k\n",
    "plt.figure(figsize=(8, 5))\n",
    "plt.plot(k_values, inertia, marker='o')\n",
    "plt.xlabel('Number of Clusters (k)')\n",
    "plt.ylabel('Inertia')\n",
    "plt.title('Elbow Method to Determine Optimal k')\n",
    "plt.show()\n"
   ]
  },
  {
   "cell_type": "code",
   "execution_count": null,
   "metadata": {},
   "outputs": [
    {
     "data": {
      "image/png": "[encoded data removed]",
      "text/plain": [
       "<Figure size 800x500 with 1 Axes>"
      ]
     },
     "metadata": {},
     "output_type": "display_data"
    }
   ],
   "source": [
    "silhouette_scores = []\n",
    "\n",
    "for k in k_values:\n",
    "    kmeans = KMeans(n_clusters=k, random_state=42, n_init=10)\n",
    "    labels = kmeans.fit_predict(embeddings)\n",
    "    score = silhouette_score(embeddings, labels)\n",
    "    silhouette_scores.append(score)\n",
    "\n",
    "# Plot silhouette score vs. k\n",
    "plt.figure(figsize=(8, 5))\n",
    "plt.plot(k_values, silhouette_scores, marker='o')\n",
    "plt.xlabel('Number of Clusters (k)')\n",
    "plt.ylabel('Silhouette Score')\n",
    "plt.title('Silhouette Score to Determine Optimal k')\n",
    "plt.show()\n"
   ]
  },
  {
   "cell_type": "code",
   "execution_count": null,
   "metadata": {},
   "outputs": [
    {
     "name": "stdout",
     "output_type": "stream",
     "text": [
      "Cluster 0: ['israel', 'people', 'would', 'like', 'hamas', 'us', 'one', 'even', 'get', 'palestine']\n"
     ]
    }
   ],
   "source": [
    "model = KMeans(n_clusters=2, max_iter=1000, random_state=True, n_init=50).fit(X=word_vectors.vectors)\n",
    "positive_cluster_center = model.cluster_centers_[0]\n",
    "negative_cluster_center = model.cluster_centers_[1]"
   ]
  },
  {
   "cell_type": "code",
   "execution_count": null,
   "metadata": {},
   "outputs": [
    {
     "data": {
      "text/plain": [
       "array([10998,    44])"
      ]
     },
     "execution_count": 45,
     "metadata": {},
     "output_type": "execute_result"
    }
   ],
   "source": [
    "np.bincount(labels)"
   ]
  },
  {
   "cell_type": "code",
   "execution_count": null,
   "metadata": {},
   "outputs": [
    {
     "name": "stdout",
     "output_type": "stream",
     "text": [
      "Cluster 0: ['local,', 'approve', 'policies,', 'sought', 'trouble.', 'extends', 'senses', '66', 'object', 'regardless.']\n",
      "Cluster 1: ['local,', 'approve', 'policies,', 'sought', 'trouble.', 'extends', 'senses', '66', 'regardless.', 'object']\n"
     ]
    }
   ],
   "source": [
    "centroids = kmeans.cluster_centers_\n",
    "\n",
    "# Find most similar words to each centroid\n",
    "cluster_similar_words = {\n",
    "    cluster: word_vectors.similar_by_vector(centroid, topn=10, restrict_vocab=None)\n",
    "    for cluster, centroid in enumerate(centroids)\n",
    "}\n",
    "\n",
    "# Analyze the top words in each cluster\n",
    "for cluster, words in cluster_similar_words.items():\n",
    "    print(f\"Cluster {cluster}: {[word[0] for word in words]}\")"
   ]
  },
  {
   "cell_type": "code",
   "execution_count": null,
   "metadata": {},
   "outputs": [],
   "source": []
  }
 ],
 "metadata": {
  "kernelspec": {
   "display_name": "py311",
   "language": "python",
   "name": "python3"
  },
  "language_info": {
   "codemirror_mode": {
    "name": "ipython",
    "version": 3
   },
   "file_extension": ".py",
   "mimetype": "text/x-python",
   "name": "python",
   "nbconvert_exporter": "python",
   "pygments_lexer": "ipython3",
   "version": "3.11.9"
  }
 },
 "nbformat": 4,
 "nbformat_minor": 2
}
