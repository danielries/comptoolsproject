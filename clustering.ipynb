{
 "cells": [
  {
   "cell_type": "markdown",
   "metadata": {},
   "source": [
    "Esketit\n",
    "---"
   ]
  },
  {
   "cell_type": "code",
   "execution_count": 15,
   "metadata": {},
   "outputs": [],
   "source": [
    "import pandas as pd\n",
    "import numpy as np\n",
    "import matplotlib.pyplot as plt\n",
    "import seaborn as sns\n",
    "import plotly.express as px\n",
    "import plotly.io as pio\n",
    "import plotly.graph_objects as go\n",
    "from plotly.subplots import make_subplots\n",
    "from sklearn.preprocessing import StandardScaler\n",
    "from sklearn.cluster import KMeans, AgglomerativeClustering, DBSCAN"
   ]
  },
  {
   "cell_type": "code",
   "execution_count": 33,
   "metadata": {},
   "outputs": [
    {
     "data": {
      "text/html": [
       "<div>\n",
       "<style scoped>\n",
       "    .dataframe tbody tr th:only-of-type {\n",
       "        vertical-align: middle;\n",
       "    }\n",
       "\n",
       "    .dataframe tbody tr th {\n",
       "        vertical-align: top;\n",
       "    }\n",
       "\n",
       "    .dataframe thead th {\n",
       "        text-align: right;\n",
       "    }\n",
       "</style>\n",
       "<table border=\"1\" class=\"dataframe\">\n",
       "  <thead>\n",
       "    <tr style=\"text-align: right;\">\n",
       "      <th></th>\n",
       "      <th>created_date</th>\n",
       "      <th>subreddit_id</th>\n",
       "      <th>search_query</th>\n",
       "      <th>post_id</th>\n",
       "      <th>post_title</th>\n",
       "      <th>comment_original</th>\n",
       "      <th>comment_processed</th>\n",
       "      <th>comment_no_stopwords</th>\n",
       "      <th>upvotes</th>\n",
       "      <th>post_url</th>\n",
       "      <th>comment_url</th>\n",
       "      <th>lix_score</th>\n",
       "      <th>sentiment_score</th>\n",
       "    </tr>\n",
       "    <tr>\n",
       "      <th>comment_id</th>\n",
       "      <th></th>\n",
       "      <th></th>\n",
       "      <th></th>\n",
       "      <th></th>\n",
       "      <th></th>\n",
       "      <th></th>\n",
       "      <th></th>\n",
       "      <th></th>\n",
       "      <th></th>\n",
       "      <th></th>\n",
       "      <th></th>\n",
       "      <th></th>\n",
       "      <th></th>\n",
       "    </tr>\n",
       "  </thead>\n",
       "  <tbody>\n",
       "    <tr>\n",
       "      <th>lu0s0st</th>\n",
       "      <td>2024-10-27 15:32:33</td>\n",
       "      <td>politics</td>\n",
       "      <td>Israel</td>\n",
       "      <td>1gdcy25</td>\n",
       "      <td>Bernie Sanders to voters skipping presidential...</td>\n",
       "      <td>News flash, Trump is worse on every single vot...</td>\n",
       "      <td>news flash, trump is worse on every single vot...</td>\n",
       "      <td>news flash, trump worse every single voting is...</td>\n",
       "      <td>8981</td>\n",
       "      <td>https://www.reddit.com/r/politics/comments/1gd...</td>\n",
       "      <td>https://www.reddit.com/r/politics/comments/1gd...</td>\n",
       "      <td>3.250000</td>\n",
       "      <td>-0.230769</td>\n",
       "    </tr>\n",
       "    <tr>\n",
       "      <th>lu0nkvc</th>\n",
       "      <td>2024-10-27 15:08:10</td>\n",
       "      <td>politics</td>\n",
       "      <td>Israel</td>\n",
       "      <td>1gdcy25</td>\n",
       "      <td>Bernie Sanders to voters skipping presidential...</td>\n",
       "      <td>Protest non-voters are some of the worst type ...</td>\n",
       "      <td>protest non voters are some of the worst type ...</td>\n",
       "      <td>protest non voters worst type privileged peopl...</td>\n",
       "      <td>4186</td>\n",
       "      <td>https://www.reddit.com/r/politics/comments/1gd...</td>\n",
       "      <td>https://www.reddit.com/r/politics/comments/1gd...</td>\n",
       "      <td>40.104651</td>\n",
       "      <td>-0.162791</td>\n",
       "    </tr>\n",
       "  </tbody>\n",
       "</table>\n",
       "</div>"
      ],
      "text/plain": [
       "                   created_date subreddit_id search_query  post_id  \\\n",
       "comment_id                                                           \n",
       "lu0s0st     2024-10-27 15:32:33     politics       Israel  1gdcy25   \n",
       "lu0nkvc     2024-10-27 15:08:10     politics       Israel  1gdcy25   \n",
       "\n",
       "                                                   post_title  \\\n",
       "comment_id                                                      \n",
       "lu0s0st     Bernie Sanders to voters skipping presidential...   \n",
       "lu0nkvc     Bernie Sanders to voters skipping presidential...   \n",
       "\n",
       "                                             comment_original  \\\n",
       "comment_id                                                      \n",
       "lu0s0st     News flash, Trump is worse on every single vot...   \n",
       "lu0nkvc     Protest non-voters are some of the worst type ...   \n",
       "\n",
       "                                            comment_processed  \\\n",
       "comment_id                                                      \n",
       "lu0s0st     news flash, trump is worse on every single vot...   \n",
       "lu0nkvc     protest non voters are some of the worst type ...   \n",
       "\n",
       "                                         comment_no_stopwords  upvotes  \\\n",
       "comment_id                                                               \n",
       "lu0s0st     news flash, trump worse every single voting is...     8981   \n",
       "lu0nkvc     protest non voters worst type privileged peopl...     4186   \n",
       "\n",
       "                                                     post_url  \\\n",
       "comment_id                                                      \n",
       "lu0s0st     https://www.reddit.com/r/politics/comments/1gd...   \n",
       "lu0nkvc     https://www.reddit.com/r/politics/comments/1gd...   \n",
       "\n",
       "                                                  comment_url  lix_score  \\\n",
       "comment_id                                                                 \n",
       "lu0s0st     https://www.reddit.com/r/politics/comments/1gd...   3.250000   \n",
       "lu0nkvc     https://www.reddit.com/r/politics/comments/1gd...  40.104651   \n",
       "\n",
       "            sentiment_score  \n",
       "comment_id                   \n",
       "lu0s0st           -0.230769  \n",
       "lu0nkvc           -0.162791  "
      ]
     },
     "execution_count": 33,
     "metadata": {},
     "output_type": "execute_result"
    }
   ],
   "source": [
    "df = pd.read_csv('data/politics_w_lix_sentiment.csv', index_col = 'comment_id')\n",
    "df.head(2)"
   ]
  },
  {
   "cell_type": "code",
   "execution_count": null,
   "metadata": {},
   "outputs": [],
   "source": [
    "pre_path = 'data/'\n",
    "suffix = '_w_lix_sentiment.csv'\n",
    "subreddits = ['Israel','Palestine', 'politics', 'worldnews']\n",
    "dfs = [pd.read_csv(pre_path + sub + suffix, index_col = 'comment_id') for sub in subreddits]"
   ]
  },
  {
   "cell_type": "code",
   "execution_count": 39,
   "metadata": {},
   "outputs": [],
   "source": [
    "for sub in subreddits:\n",
    "\n",
    "    #### Get the needed data and do log transformation of upvotes\n",
    "    #define columns for clustering\n",
    "    attribute_cols = ['sentiment_score', 'lix_score','upvotes']\n",
    "\n",
    "    #Create the new daraframe for clustering\n",
    "    df_cluster = df[attribute_cols].copy()\n",
    "\n",
    "    df_cluster['upvotes'] = df_cluster['upvotes'].apply(lambda x: np.log(x)) #We should prove why we do this by plotting the data i guess, but we will save that for later\n",
    "\n",
    "    #Standardize the data\n",
    "    scaler = StandardScaler()\n",
    "    df_cluster_scaled = scaler.fit_transform(df_cluster)\n",
    "\n",
    "\n",
    "    #Apply clustering using tuned hyperparameters\n",
    "    n_clusters = 3\n",
    "\n",
    "    hierarchical = AgglomerativeClustering(n_clusters=n_clusters)\n",
    "    hierarchical.fit(df_cluster_scaled)\n",
    "\n",
    "    kmeans = KMeans(n_clusters=n_clusters, random_state=42) \n",
    "    kmeans.fit(df_cluster_scaled)\n",
    "\n",
    "    dbscan = DBSCAN(eps=0.25) #eps is max distance between points for the same cluster\n",
    "    dbscan.fit(df_cluster_scaled)\n",
    "\n",
    "\n",
    "    #### Add the cluster labels to the dataframe\n",
    "    df['hierarchical_cluster'] = hierarchical.labels_\n",
    "    df['kmeans_cluster'] = kmeans.labels_\n",
    "    df['dbscan_cluster'] = dbscan.labels_\n",
    "\n",
    "    #### Export the new dataframes\n",
    "    df.to_csv(f'data/{sub}_clustered.csv')\n"
   ]
  },
  {
   "cell_type": "code",
   "execution_count": 41,
   "metadata": {},
   "outputs": [
    {
     "data": {
      "text/html": [
       "<div>\n",
       "<style scoped>\n",
       "    .dataframe tbody tr th:only-of-type {\n",
       "        vertical-align: middle;\n",
       "    }\n",
       "\n",
       "    .dataframe tbody tr th {\n",
       "        vertical-align: top;\n",
       "    }\n",
       "\n",
       "    .dataframe thead th {\n",
       "        text-align: right;\n",
       "    }\n",
       "</style>\n",
       "<table border=\"1\" class=\"dataframe\">\n",
       "  <thead>\n",
       "    <tr style=\"text-align: right;\">\n",
       "      <th></th>\n",
       "      <th>created_date</th>\n",
       "      <th>subreddit_id</th>\n",
       "      <th>search_query</th>\n",
       "      <th>post_id</th>\n",
       "      <th>post_title</th>\n",
       "      <th>comment_original</th>\n",
       "      <th>comment_processed</th>\n",
       "      <th>comment_no_stopwords</th>\n",
       "      <th>upvotes</th>\n",
       "      <th>post_url</th>\n",
       "      <th>comment_url</th>\n",
       "      <th>lix_score</th>\n",
       "      <th>sentiment_score</th>\n",
       "      <th>hierarchical_cluster</th>\n",
       "      <th>kmeans_cluster</th>\n",
       "      <th>dbscan_cluster</th>\n",
       "    </tr>\n",
       "    <tr>\n",
       "      <th>comment_id</th>\n",
       "      <th></th>\n",
       "      <th></th>\n",
       "      <th></th>\n",
       "      <th></th>\n",
       "      <th></th>\n",
       "      <th></th>\n",
       "      <th></th>\n",
       "      <th></th>\n",
       "      <th></th>\n",
       "      <th></th>\n",
       "      <th></th>\n",
       "      <th></th>\n",
       "      <th></th>\n",
       "      <th></th>\n",
       "      <th></th>\n",
       "      <th></th>\n",
       "    </tr>\n",
       "  </thead>\n",
       "  <tbody>\n",
       "    <tr>\n",
       "      <th>lu0s0st</th>\n",
       "      <td>2024-10-27 15:32:33</td>\n",
       "      <td>politics</td>\n",
       "      <td>Israel</td>\n",
       "      <td>1gdcy25</td>\n",
       "      <td>Bernie Sanders to voters skipping presidential...</td>\n",
       "      <td>News flash, Trump is worse on every single vot...</td>\n",
       "      <td>news flash, trump is worse on every single vot...</td>\n",
       "      <td>news flash, trump worse every single voting is...</td>\n",
       "      <td>8981</td>\n",
       "      <td>https://www.reddit.com/r/politics/comments/1gd...</td>\n",
       "      <td>https://www.reddit.com/r/politics/comments/1gd...</td>\n",
       "      <td>3.250000</td>\n",
       "      <td>-0.230769</td>\n",
       "      <td>2</td>\n",
       "      <td>0</td>\n",
       "      <td>-1</td>\n",
       "    </tr>\n",
       "    <tr>\n",
       "      <th>lu0nkvc</th>\n",
       "      <td>2024-10-27 15:08:10</td>\n",
       "      <td>politics</td>\n",
       "      <td>Israel</td>\n",
       "      <td>1gdcy25</td>\n",
       "      <td>Bernie Sanders to voters skipping presidential...</td>\n",
       "      <td>Protest non-voters are some of the worst type ...</td>\n",
       "      <td>protest non voters are some of the worst type ...</td>\n",
       "      <td>protest non voters worst type privileged peopl...</td>\n",
       "      <td>4186</td>\n",
       "      <td>https://www.reddit.com/r/politics/comments/1gd...</td>\n",
       "      <td>https://www.reddit.com/r/politics/comments/1gd...</td>\n",
       "      <td>40.104651</td>\n",
       "      <td>-0.162791</td>\n",
       "      <td>2</td>\n",
       "      <td>0</td>\n",
       "      <td>-1</td>\n",
       "    </tr>\n",
       "  </tbody>\n",
       "</table>\n",
       "</div>"
      ],
      "text/plain": [
       "                   created_date subreddit_id search_query  post_id  \\\n",
       "comment_id                                                           \n",
       "lu0s0st     2024-10-27 15:32:33     politics       Israel  1gdcy25   \n",
       "lu0nkvc     2024-10-27 15:08:10     politics       Israel  1gdcy25   \n",
       "\n",
       "                                                   post_title  \\\n",
       "comment_id                                                      \n",
       "lu0s0st     Bernie Sanders to voters skipping presidential...   \n",
       "lu0nkvc     Bernie Sanders to voters skipping presidential...   \n",
       "\n",
       "                                             comment_original  \\\n",
       "comment_id                                                      \n",
       "lu0s0st     News flash, Trump is worse on every single vot...   \n",
       "lu0nkvc     Protest non-voters are some of the worst type ...   \n",
       "\n",
       "                                            comment_processed  \\\n",
       "comment_id                                                      \n",
       "lu0s0st     news flash, trump is worse on every single vot...   \n",
       "lu0nkvc     protest non voters are some of the worst type ...   \n",
       "\n",
       "                                         comment_no_stopwords  upvotes  \\\n",
       "comment_id                                                               \n",
       "lu0s0st     news flash, trump worse every single voting is...     8981   \n",
       "lu0nkvc     protest non voters worst type privileged peopl...     4186   \n",
       "\n",
       "                                                     post_url  \\\n",
       "comment_id                                                      \n",
       "lu0s0st     https://www.reddit.com/r/politics/comments/1gd...   \n",
       "lu0nkvc     https://www.reddit.com/r/politics/comments/1gd...   \n",
       "\n",
       "                                                  comment_url  lix_score  \\\n",
       "comment_id                                                                 \n",
       "lu0s0st     https://www.reddit.com/r/politics/comments/1gd...   3.250000   \n",
       "lu0nkvc     https://www.reddit.com/r/politics/comments/1gd...  40.104651   \n",
       "\n",
       "            sentiment_score  hierarchical_cluster  kmeans_cluster  \\\n",
       "comment_id                                                          \n",
       "lu0s0st           -0.230769                     2               0   \n",
       "lu0nkvc           -0.162791                     2               0   \n",
       "\n",
       "            dbscan_cluster  \n",
       "comment_id                  \n",
       "lu0s0st                 -1  \n",
       "lu0nkvc                 -1  "
      ]
     },
     "execution_count": 41,
     "metadata": {},
     "output_type": "execute_result"
    }
   ],
   "source": [
    "dt = pd.read_csv('data/politics_clustered.csv', index_col = 'comment_id')\n",
    "dt.head(2)"
   ]
  },
  {
   "cell_type": "markdown",
   "metadata": {},
   "source": [
    "Scatterplots\n",
    "---"
   ]
  },
  {
   "cell_type": "code",
   "execution_count": null,
   "metadata": {},
   "outputs": [],
   "source": [
    "# Create a figure with 3 scatter plots\n",
    "fig, axes = plt.subplots(1, 3, figsize=(18, 5))\n",
    "\n",
    "# Scatter plot for sentiment_score vs lix_score\n",
    "sns.scatterplot(ax=axes[0], x='sentiment_score', y='lix_score', data=df_cluster)\n",
    "axes[0].set_title('Sentiment Score vs Lix Score')\n",
    "\n",
    "# Scatter plot for sentiment_score vs upvotes\n",
    "sns.scatterplot(ax=axes[1], x='sentiment_score', y='upvotes', data=df_cluster)\n",
    "axes[1].set_title('Sentiment Score vs Upvotes')\n",
    "\n",
    "# Scatter plot for lix_score vs upvotes\n",
    "sns.scatterplot(ax=axes[2], x='lix_score', y='upvotes', data=df_cluster)\n",
    "axes[2].set_title('Lix Score vs Upvotes')\n",
    "\n",
    "plt.tight_layout()\n",
    "plt.show()"
   ]
  },
  {
   "cell_type": "markdown",
   "metadata": {},
   "source": [
    "3D Scatterplots\n",
    "---"
   ]
  },
  {
   "cell_type": "code",
   "execution_count": null,
   "metadata": {},
   "outputs": [],
   "source": [
    "fig, ax = plt.subplots(ncols=1, nrows=1, figsize=(6,6), subplot_kw={'projection':'3d'})\n",
    "ax.scatter(df_cluster_scaled[:, 0], df_cluster_scaled[:, 1], df_cluster_scaled[:, 2], facecolors='none', edgecolors='b')\n",
    "# ax.scatter(df_cluster.to_numpy()[:, 0], df_cluster.to_numpy()[:, 1], df_cluster.to_numpy()[:, 2], facecolors='none', edgecolors='b')\n",
    "ax.set_xlabel('Sentiment Score')\n",
    "ax.set_ylabel('Lix Score')\n",
    "ax.set_title('3D Scatter Plot')\n",
    "# ax.text2D(0.05, 0.95, \"Log-transformed upvotes on the z axis\", transform=ax.transAxes)\n",
    "\n",
    "plt.tight_layout()"
   ]
  },
  {
   "cell_type": "markdown",
   "metadata": {},
   "source": [
    "Hyperparameter tuning\n",
    "---"
   ]
  },
  {
   "cell_type": "code",
   "execution_count": null,
   "metadata": {},
   "outputs": [
    {
     "data": {
      "application/vnd.plotly.v1+json": {
       "config": {
        "plotlyServerURL": "https://plot.ly"
       },
       "data": [
        {
         "marker": {
          "color": "blue"
         },
         "mode": "lines+markers",
         "name": "KNN",
         "type": "scatter",
         "x": [
          1,
          2,
          3,
          4,
          5,
          6,
          7,
          8,
          9,
          10,
          11,
          12,
          13,
          14,
          15,
          16,
          17,
          18,
          19
         ],
         "y": [
          7148.999999999999,
          5610.477507856694,
          4534.834291621041,
          3755.8424429373204,
          3405.300307955029,
          3041.8348219818317,
          2738.814581091012,
          2598.544583607484,
          2348.6975479520543,
          2263.128112115739,
          2155.8174884384894,
          2023.3448533772137,
          1970.7576644628343,
          1878.9922440684986,
          1774.6535634911256,
          1657.0782516935653,
          1626.7129148651607,
          1533.2407109370456,
          1487.9983999898868
         ]
        }
       ],
       "layout": {
        "template": {
         "data": {
          "bar": [
           {
            "error_x": {
             "color": "#2a3f5f"
            },
            "error_y": {
             "color": "#2a3f5f"
            },
            "marker": {
             "line": {
              "color": "#E5ECF6",
              "width": 0.5
             },
             "pattern": {
              "fillmode": "overlay",
              "size": 10,
              "solidity": 0.2
             }
            },
            "type": "bar"
           }
          ],
          "barpolar": [
           {
            "marker": {
             "line": {
              "color": "#E5ECF6",
              "width": 0.5
             },
             "pattern": {
              "fillmode": "overlay",
              "size": 10,
              "solidity": 0.2
             }
            },
            "type": "barpolar"
           }
          ],
          "carpet": [
           {
            "aaxis": {
             "endlinecolor": "#2a3f5f",
             "gridcolor": "white",
             "linecolor": "white",
             "minorgridcolor": "white",
             "startlinecolor": "#2a3f5f"
            },
            "baxis": {
             "endlinecolor": "#2a3f5f",
             "gridcolor": "white",
             "linecolor": "white",
             "minorgridcolor": "white",
             "startlinecolor": "#2a3f5f"
            },
            "type": "carpet"
           }
          ],
          "choropleth": [
           {
            "colorbar": {
             "outlinewidth": 0,
             "ticks": ""
            },
            "type": "choropleth"
           }
          ],
          "contour": [
           {
            "colorbar": {
             "outlinewidth": 0,
             "ticks": ""
            },
            "colorscale": [
             [
              0,
              "#0d0887"
             ],
             [
              0.1111111111111111,
              "#46039f"
             ],
             [
              0.2222222222222222,
              "#7201a8"
             ],
             [
              0.3333333333333333,
              "#9c179e"
             ],
             [
              0.4444444444444444,
              "#bd3786"
             ],
             [
              0.5555555555555556,
              "#d8576b"
             ],
             [
              0.6666666666666666,
              "#ed7953"
             ],
             [
              0.7777777777777778,
              "#fb9f3a"
             ],
             [
              0.8888888888888888,
              "#fdca26"
             ],
             [
              1,
              "#f0f921"
             ]
            ],
            "type": "contour"
           }
          ],
          "contourcarpet": [
           {
            "colorbar": {
             "outlinewidth": 0,
             "ticks": ""
            },
            "type": "contourcarpet"
           }
          ],
          "heatmap": [
           {
            "colorbar": {
             "outlinewidth": 0,
             "ticks": ""
            },
            "colorscale": [
             [
              0,
              "#0d0887"
             ],
             [
              0.1111111111111111,
              "#46039f"
             ],
             [
              0.2222222222222222,
              "#7201a8"
             ],
             [
              0.3333333333333333,
              "#9c179e"
             ],
             [
              0.4444444444444444,
              "#bd3786"
             ],
             [
              0.5555555555555556,
              "#d8576b"
             ],
             [
              0.6666666666666666,
              "#ed7953"
             ],
             [
              0.7777777777777778,
              "#fb9f3a"
             ],
             [
              0.8888888888888888,
              "#fdca26"
             ],
             [
              1,
              "#f0f921"
             ]
            ],
            "type": "heatmap"
           }
          ],
          "heatmapgl": [
           {
            "colorbar": {
             "outlinewidth": 0,
             "ticks": ""
            },
            "colorscale": [
             [
              0,
              "#0d0887"
             ],
             [
              0.1111111111111111,
              "#46039f"
             ],
             [
              0.2222222222222222,
              "#7201a8"
             ],
             [
              0.3333333333333333,
              "#9c179e"
             ],
             [
              0.4444444444444444,
              "#bd3786"
             ],
             [
              0.5555555555555556,
              "#d8576b"
             ],
             [
              0.6666666666666666,
              "#ed7953"
             ],
             [
              0.7777777777777778,
              "#fb9f3a"
             ],
             [
              0.8888888888888888,
              "#fdca26"
             ],
             [
              1,
              "#f0f921"
             ]
            ],
            "type": "heatmapgl"
           }
          ],
          "histogram": [
           {
            "marker": {
             "pattern": {
              "fillmode": "overlay",
              "size": 10,
              "solidity": 0.2
             }
            },
            "type": "histogram"
           }
          ],
          "histogram2d": [
           {
            "colorbar": {
             "outlinewidth": 0,
             "ticks": ""
            },
            "colorscale": [
             [
              0,
              "#0d0887"
             ],
             [
              0.1111111111111111,
              "#46039f"
             ],
             [
              0.2222222222222222,
              "#7201a8"
             ],
             [
              0.3333333333333333,
              "#9c179e"
             ],
             [
              0.4444444444444444,
              "#bd3786"
             ],
             [
              0.5555555555555556,
              "#d8576b"
             ],
             [
              0.6666666666666666,
              "#ed7953"
             ],
             [
              0.7777777777777778,
              "#fb9f3a"
             ],
             [
              0.8888888888888888,
              "#fdca26"
             ],
             [
              1,
              "#f0f921"
             ]
            ],
            "type": "histogram2d"
           }
          ],
          "histogram2dcontour": [
           {
            "colorbar": {
             "outlinewidth": 0,
             "ticks": ""
            },
            "colorscale": [
             [
              0,
              "#0d0887"
             ],
             [
              0.1111111111111111,
              "#46039f"
             ],
             [
              0.2222222222222222,
              "#7201a8"
             ],
             [
              0.3333333333333333,
              "#9c179e"
             ],
             [
              0.4444444444444444,
              "#bd3786"
             ],
             [
              0.5555555555555556,
              "#d8576b"
             ],
             [
              0.6666666666666666,
              "#ed7953"
             ],
             [
              0.7777777777777778,
              "#fb9f3a"
             ],
             [
              0.8888888888888888,
              "#fdca26"
             ],
             [
              1,
              "#f0f921"
             ]
            ],
            "type": "histogram2dcontour"
           }
          ],
          "mesh3d": [
           {
            "colorbar": {
             "outlinewidth": 0,
             "ticks": ""
            },
            "type": "mesh3d"
           }
          ],
          "parcoords": [
           {
            "line": {
             "colorbar": {
              "outlinewidth": 0,
              "ticks": ""
             }
            },
            "type": "parcoords"
           }
          ],
          "pie": [
           {
            "automargin": true,
            "type": "pie"
           }
          ],
          "scatter": [
           {
            "fillpattern": {
             "fillmode": "overlay",
             "size": 10,
             "solidity": 0.2
            },
            "type": "scatter"
           }
          ],
          "scatter3d": [
           {
            "line": {
             "colorbar": {
              "outlinewidth": 0,
              "ticks": ""
             }
            },
            "marker": {
             "colorbar": {
              "outlinewidth": 0,
              "ticks": ""
             }
            },
            "type": "scatter3d"
           }
          ],
          "scattercarpet": [
           {
            "marker": {
             "colorbar": {
              "outlinewidth": 0,
              "ticks": ""
             }
            },
            "type": "scattercarpet"
           }
          ],
          "scattergeo": [
           {
            "marker": {
             "colorbar": {
              "outlinewidth": 0,
              "ticks": ""
             }
            },
            "type": "scattergeo"
           }
          ],
          "scattergl": [
           {
            "marker": {
             "colorbar": {
              "outlinewidth": 0,
              "ticks": ""
             }
            },
            "type": "scattergl"
           }
          ],
          "scattermapbox": [
           {
            "marker": {
             "colorbar": {
              "outlinewidth": 0,
              "ticks": ""
             }
            },
            "type": "scattermapbox"
           }
          ],
          "scatterpolar": [
           {
            "marker": {
             "colorbar": {
              "outlinewidth": 0,
              "ticks": ""
             }
            },
            "type": "scatterpolar"
           }
          ],
          "scatterpolargl": [
           {
            "marker": {
             "colorbar": {
              "outlinewidth": 0,
              "ticks": ""
             }
            },
            "type": "scatterpolargl"
           }
          ],
          "scatterternary": [
           {
            "marker": {
             "colorbar": {
              "outlinewidth": 0,
              "ticks": ""
             }
            },
            "type": "scatterternary"
           }
          ],
          "surface": [
           {
            "colorbar": {
             "outlinewidth": 0,
             "ticks": ""
            },
            "colorscale": [
             [
              0,
              "#0d0887"
             ],
             [
              0.1111111111111111,
              "#46039f"
             ],
             [
              0.2222222222222222,
              "#7201a8"
             ],
             [
              0.3333333333333333,
              "#9c179e"
             ],
             [
              0.4444444444444444,
              "#bd3786"
             ],
             [
              0.5555555555555556,
              "#d8576b"
             ],
             [
              0.6666666666666666,
              "#ed7953"
             ],
             [
              0.7777777777777778,
              "#fb9f3a"
             ],
             [
              0.8888888888888888,
              "#fdca26"
             ],
             [
              1,
              "#f0f921"
             ]
            ],
            "type": "surface"
           }
          ],
          "table": [
           {
            "cells": {
             "fill": {
              "color": "#EBF0F8"
             },
             "line": {
              "color": "white"
             }
            },
            "header": {
             "fill": {
              "color": "#C8D4E3"
             },
             "line": {
              "color": "white"
             }
            },
            "type": "table"
           }
          ]
         },
         "layout": {
          "annotationdefaults": {
           "arrowcolor": "#2a3f5f",
           "arrowhead": 0,
           "arrowwidth": 1
          },
          "autotypenumbers": "strict",
          "coloraxis": {
           "colorbar": {
            "outlinewidth": 0,
            "ticks": ""
           }
          },
          "colorscale": {
           "diverging": [
            [
             0,
             "#8e0152"
            ],
            [
             0.1,
             "#c51b7d"
            ],
            [
             0.2,
             "#de77ae"
            ],
            [
             0.3,
             "#f1b6da"
            ],
            [
             0.4,
             "#fde0ef"
            ],
            [
             0.5,
             "#f7f7f7"
            ],
            [
             0.6,
             "#e6f5d0"
            ],
            [
             0.7,
             "#b8e186"
            ],
            [
             0.8,
             "#7fbc41"
            ],
            [
             0.9,
             "#4d9221"
            ],
            [
             1,
             "#276419"
            ]
           ],
           "sequential": [
            [
             0,
             "#0d0887"
            ],
            [
             0.1111111111111111,
             "#46039f"
            ],
            [
             0.2222222222222222,
             "#7201a8"
            ],
            [
             0.3333333333333333,
             "#9c179e"
            ],
            [
             0.4444444444444444,
             "#bd3786"
            ],
            [
             0.5555555555555556,
             "#d8576b"
            ],
            [
             0.6666666666666666,
             "#ed7953"
            ],
            [
             0.7777777777777778,
             "#fb9f3a"
            ],
            [
             0.8888888888888888,
             "#fdca26"
            ],
            [
             1,
             "#f0f921"
            ]
           ],
           "sequentialminus": [
            [
             0,
             "#0d0887"
            ],
            [
             0.1111111111111111,
             "#46039f"
            ],
            [
             0.2222222222222222,
             "#7201a8"
            ],
            [
             0.3333333333333333,
             "#9c179e"
            ],
            [
             0.4444444444444444,
             "#bd3786"
            ],
            [
             0.5555555555555556,
             "#d8576b"
            ],
            [
             0.6666666666666666,
             "#ed7953"
            ],
            [
             0.7777777777777778,
             "#fb9f3a"
            ],
            [
             0.8888888888888888,
             "#fdca26"
            ],
            [
             1,
             "#f0f921"
            ]
           ]
          },
          "colorway": [
           "#636efa",
           "#EF553B",
           "#00cc96",
           "#ab63fa",
           "#FFA15A",
           "#19d3f3",
           "#FF6692",
           "#B6E880",
           "#FF97FF",
           "#FECB52"
          ],
          "font": {
           "color": "#2a3f5f"
          },
          "geo": {
           "bgcolor": "white",
           "lakecolor": "white",
           "landcolor": "#E5ECF6",
           "showlakes": true,
           "showland": true,
           "subunitcolor": "white"
          },
          "hoverlabel": {
           "align": "left"
          },
          "hovermode": "closest",
          "mapbox": {
           "style": "light"
          },
          "paper_bgcolor": "white",
          "plot_bgcolor": "#E5ECF6",
          "polar": {
           "angularaxis": {
            "gridcolor": "white",
            "linecolor": "white",
            "ticks": ""
           },
           "bgcolor": "#E5ECF6",
           "radialaxis": {
            "gridcolor": "white",
            "linecolor": "white",
            "ticks": ""
           }
          },
          "scene": {
           "xaxis": {
            "backgroundcolor": "#E5ECF6",
            "gridcolor": "white",
            "gridwidth": 2,
            "linecolor": "white",
            "showbackground": true,
            "ticks": "",
            "zerolinecolor": "white"
           },
           "yaxis": {
            "backgroundcolor": "#E5ECF6",
            "gridcolor": "white",
            "gridwidth": 2,
            "linecolor": "white",
            "showbackground": true,
            "ticks": "",
            "zerolinecolor": "white"
           },
           "zaxis": {
            "backgroundcolor": "#E5ECF6",
            "gridcolor": "white",
            "gridwidth": 2,
            "linecolor": "white",
            "showbackground": true,
            "ticks": "",
            "zerolinecolor": "white"
           }
          },
          "shapedefaults": {
           "line": {
            "color": "#2a3f5f"
           }
          },
          "ternary": {
           "aaxis": {
            "gridcolor": "white",
            "linecolor": "white",
            "ticks": ""
           },
           "baxis": {
            "gridcolor": "white",
            "linecolor": "white",
            "ticks": ""
           },
           "bgcolor": "#E5ECF6",
           "caxis": {
            "gridcolor": "white",
            "linecolor": "white",
            "ticks": ""
           }
          },
          "title": {
           "x": 0.05
          },
          "xaxis": {
           "automargin": true,
           "gridcolor": "white",
           "linecolor": "white",
           "ticks": "",
           "title": {
            "standoff": 15
           },
           "zerolinecolor": "white",
           "zerolinewidth": 2
          },
          "yaxis": {
           "automargin": true,
           "gridcolor": "white",
           "linecolor": "white",
           "ticks": "",
           "title": {
            "standoff": 15
           },
           "zerolinecolor": "white",
           "zerolinewidth": 2
          }
         }
        },
        "title": {
         "text": "Elbow Method for Optimal k"
        },
        "xaxis": {
         "title": {
          "text": "Number of Clusters (k)"
         }
        },
        "yaxis": {
         "title": {
          "text": "Inertia (Sum of Squared Distances)"
         }
        }
       }
      }
     },
     "metadata": {},
     "output_type": "display_data"
    }
   ],
   "source": [
    "# Determine the optimal number of clusters with the Elbow Method\n",
    "knn_inertia = []\n",
    "hier_inertia = []\n",
    "DBSCAN_inertia = []\n",
    "\n",
    "K_range = range(1, 20)\n",
    "\n",
    "for k in K_range:\n",
    "    kmeans = KMeans(n_clusters=k, random_state=42)\n",
    "    kmeans.fit(df_cluster_scaled)\n",
    "    # hierarchical = AgglomerativeClustering(n_clusters=k)\n",
    "    # hierarchical.fit(df_cluster_scaled)\n",
    "    knn_inertia.append(kmeans.inertia_)\n",
    "    # hier_inertia.append(hierarchical.inertia_)\n",
    "\n",
    "# Plot the elbow curve\n",
    "elbow_fig = go.Figure()\n",
    "elbow_fig.add_trace(go.Scatter(x=list(K_range), y=knn_inertia, name = 'KNN', mode='lines+markers', marker=dict(color='blue')))\n",
    "# elbow_fig.add_trace(go.Scatter(x=list(K_range), y=hier_inertia, name = 'Hierachical', mode='lines+markers', marker=dict(color='blue')))\n",
    "\n",
    "elbow_fig.update_layout(\n",
    "    title=\"Elbow Method for Optimal k\",\n",
    "    xaxis_title=\"Number of Clusters (k)\",\n",
    "    yaxis_title=\"Inertia (Sum of Squared Distances)\",\n",
    ")\n",
    "elbow_fig.show()\n"
   ]
  },
  {
   "cell_type": "markdown",
   "metadata": {},
   "source": [
    "Plot clusters in 3-d space\n",
    "---"
   ]
  },
  {
   "cell_type": "code",
   "execution_count": null,
   "metadata": {},
   "outputs": [
    {
     "data": {
      "text/plain": [
       "Text(0.5, 0.92, 'DBSCAN')"
      ]
     },
     "execution_count": 20,
     "metadata": {},
     "output_type": "execute_result"
    },
    {
     "data": {
      "image/png": "[encoded data removed]",
      "text/plain": [
       "<Figure size 1200x800 with 3 Axes>"
      ]
     },
     "metadata": {},
     "output_type": "display_data"
    }
   ],
   "source": [
    "fig, axs = plt.subplots(ncols=3, figsize=(12,8), subplot_kw={'projection':'3d'})\n",
    "for ax in axs:\n",
    "    ax.set_xlabel('Sentiment Score')\n",
    "    ax.set_ylabel('Lix Score')\n",
    "\n",
    "axs[0].scatter(df_cluster_scaled[:,0], df_cluster_scaled[:,1], df_cluster_scaled[:,2], c=hierarchical.labels_)\n",
    "axs[0].set_title(\"Hierarchical\")\n",
    "\n",
    "axs[1].scatter(df_cluster_scaled[:,0], df_cluster_scaled[:,1], df_cluster_scaled[:,2], c=kmeans.labels_)\n",
    "axs[1].set_title(\"KMeans\")\n",
    "\n",
    "axs[2].scatter(df_cluster_scaled[:,0], df_cluster_scaled[:,1], df_cluster_scaled[:,2], c=dbscan.labels_)\n",
    "axs[2].set_title(\"DBSCAN\")\n",
    "\n"
   ]
  }
 ],
 "metadata": {
  "kernelspec": {
   "display_name": "Python 3",
   "language": "python",
   "name": "python3"
  },
  "language_info": {
   "codemirror_mode": {
    "name": "ipython",
    "version": 3
   },
   "file_extension": ".py",
   "mimetype": "text/x-python",
   "name": "python",
   "nbconvert_exporter": "python",
   "pygments_lexer": "ipython3",
   "version": "3.12.0"
  }
 },
 "nbformat": 4,
 "nbformat_minor": 2
}
