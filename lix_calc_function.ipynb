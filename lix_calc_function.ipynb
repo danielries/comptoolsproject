{
 "cells": [
  {
   "cell_type": "code",
   "execution_count": 1,
   "metadata": {},
   "outputs": [],
   "source": [
    "import re\n",
    "import pandas as pd\n",
    "from numba import njit\n",
    "import matplotlib.pyplot as plt\n",
    "import timeit\n",
    "import numpy as np"
   ]
  },
  {
   "cell_type": "markdown",
   "metadata": {},
   "source": [
    "This notebook should just contain the function we are going to use for our lix calculation"
   ]
  },
  {
   "cell_type": "code",
   "execution_count": null,
   "metadata": {},
   "outputs": [],
   "source": [
    "def lix_calc_used(text): #This is the function normally called \"lix_calc3\" in the other file\n",
    "    # Split the text into words directly\n",
    "    words = re.findall(r'\\b\\w+\\b', text)\n",
    "    num_words = len(words)\n",
    "\n",
    "    # Count long words (more than 6 letters)\n",
    "    long_words = sum(1 for word in words if len(word) > 6)\n",
    "\n",
    "    # Count sentences by counting delimiters directly\n",
    "    num_sentences = text.count('.') + text.count('!') + text.count('?')\n",
    "    if num_sentences == 0:  # Prevent division by zero\n",
    "        num_sentences = 1\n",
    "\n",
    "    #In case of errors ############ Added by Thor due to errors\n",
    "    if num_words == 0:  # Prevent division by zero\n",
    "        num_words = 1\n",
    "\n",
    "    # Calculate LIX index\n",
    "    lix = num_words / num_sentences + (long_words / num_words) * 100\n",
    "    return lix"
   ]
  }
 ],
 "metadata": {
  "kernelspec": {
   "display_name": "Python 3",
   "language": "python",
   "name": "python3"
  },
  "language_info": {
   "codemirror_mode": {
    "name": "ipython",
    "version": 3
   },
   "file_extension": ".py",
   "mimetype": "text/x-python",
   "name": "python",
   "nbconvert_exporter": "python",
   "pygments_lexer": "ipython3",
   "version": "3.12.0"
  }
 },
 "nbformat": 4,
 "nbformat_minor": 2
}
