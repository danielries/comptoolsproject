{
 "cells": [
  {
   "cell_type": "markdown",
   "metadata": {},
   "source": [
    "### Illustrating words in given clusters using WordClouds"
   ]
  },
  {
   "cell_type": "code",
   "execution_count": null,
   "metadata": {},
   "outputs": [],
   "source": [
    "from wordcloud import WordCloud\n",
    "import matplotlib.pyplot as plt\n",
    "import pandas as pd\n",
    "\n",
    "# Read the data\n",
    "all_clustered = pd.read_csv('data/all_data_clustered.csv')\n",
    "all_clustered = all_clustered.dropna()\n",
    "all_clustered.head()"
   ]
  },
  {
   "cell_type": "code",
   "execution_count": null,
   "metadata": {},
   "outputs": [],
   "source": [
    "from sklearn.feature_extraction.text import TfidfVectorizer\n",
    "import pandas as pd\n",
    "\n",
    "def extract_and_save_tfidf_terms(data, cluster_column, text_column, top_print=5):\n",
    "    all_tfidf_terms = {}\n",
    "    tfidf = TfidfVectorizer(max_features=5000)  # Adjust max_features as needed\n",
    "    clusters = data[cluster_column].unique()\n",
    "    \n",
    "    for cluster in clusters:\n",
    "        # Filter data for the specific cluster\n",
    "        cluster_data = data[data[cluster_column] == cluster]\n",
    "        # Fit and transform TF-IDF on the cluster text\n",
    "        tfidf_matrix = tfidf.fit_transform(cluster_data[text_column])\n",
    "        feature_names = tfidf.get_feature_names_out()\n",
    "        tfidf_scores = tfidf_matrix.sum(axis=0).A1\n",
    "        tfidf_df = pd.DataFrame({\n",
    "            'term': feature_names,\n",
    "            'score': tfidf_scores\n",
    "        }).sort_values(by='score', ascending=False)\n",
    "        \n",
    "        # Save all terms and scores for this cluster\n",
    "        all_tfidf_terms[cluster] = dict(zip(tfidf_df['term'], tfidf_df['score']))\n",
    "        \n",
    "        # Print a few top terms as an example\n",
    "        print(f\"\\nCluster {cluster}: Top {top_print} TF-IDF Terms (as an example):\\n\")\n",
    "        print(tfidf_df.head(top_print).to_string(index=False))\n",
    "    \n",
    "    return all_tfidf_terms\n",
    "\n",
    "\n",
    "tfidf_terms = extract_and_save_tfidf_terms(all_clustered, 'KMEANS', 'comment_no_stopwords', top_print=5)\n"
   ]
  },
  {
   "cell_type": "code",
   "execution_count": null,
   "metadata": {},
   "outputs": [],
   "source": [
    "def generate_wordclouds_from_saved_terms(tfidf_terms):\n",
    "    for cluster, tfidf_dict in tfidf_terms.items():\n",
    "        # Generate a word cloud using TF-IDF scores\n",
    "        wordcloud = WordCloud(width=800, height=400, background_color=\"white\").generate_from_frequencies(tfidf_dict)\n",
    "        \n",
    "        # Plot the word cloud\n",
    "        plt.figure(figsize=(10, 5))\n",
    "        plt.imshow(wordcloud, interpolation=\"bilinear\")\n",
    "        plt.axis(\"off\")\n",
    "        plt.title(f\"TF-IDF Word Cloud for Cluster {cluster}\", fontsize=16)\n",
    "        plt.show()\n",
    "\n",
    "generate_wordclouds_from_saved_terms(tfidf_terms)"
   ]
  }
 ],
 "metadata": {
  "kernelspec": {
   "display_name": "ComputationalEnv",
   "language": "python",
   "name": "python3"
  },
  "language_info": {
   "codemirror_mode": {
    "name": "ipython",
    "version": 3
   },
   "file_extension": ".py",
   "mimetype": "text/x-python",
   "name": "python",
   "nbconvert_exporter": "python",
   "pygments_lexer": "ipython3",
   "version": "3.10.11"
  }
 },
 "nbformat": 4,
 "nbformat_minor": 2
}
