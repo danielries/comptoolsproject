{
 "cells": [
  {
   "cell_type": "markdown",
   "metadata": {},
   "source": [
    "# Sentiment analysis"
   ]
  },
  {
   "cell_type": "markdown",
   "metadata": {},
   "source": [
    "### Import libraries"
   ]
  },
  {
   "cell_type": "code",
   "execution_count": 74,
   "metadata": {},
   "outputs": [],
   "source": [
    "import re\n",
    "import logging\n",
    "import numpy as np\n",
    "import pandas as pd\n",
    "import multiprocessing\n",
    "import matplotlib.pyplot as plt\n",
    "\n",
    "from re import sub\n",
    "from time import time \n",
    "from unidecode import unidecode\n",
    "from gensim.models import Word2Vec\n",
    "from collections import defaultdict\n",
    "from gensim.models import KeyedVectors\n",
    "from gensim.test.utils import get_tmpfile\n",
    "from gensim.models.phrases import Phrases, Phraser\n",
    "\n",
    "from sklearn.cluster import KMeans\n",
    "from IPython.display import display\n",
    "from sklearn.feature_extraction.text import TfidfVectorizer\n",
    "from sklearn.metrics import silhouette_score\n",
    "\n",
    "logging.basicConfig(format=\"%(levelname)s - %(asctime)s: %(message)s\", datefmt= '%H:%M:%S', level=logging.INFO)\n"
   ]
  },
  {
   "cell_type": "markdown",
   "metadata": {},
   "source": [
    "### Load data"
   ]
  },
  {
   "cell_type": "code",
   "execution_count": null,
   "metadata": {},
   "outputs": [],
   "source": [
    "df_combined = pd.read_csv('data/sentiment/combined_preprocessed_comments.csv')\n",
    "df_cleaned = df_combined.dropna().drop_duplicates().reset_index(drop=True)"
   ]
  },
  {
   "cell_type": "markdown",
   "metadata": {},
   "source": [
    "### Text to word list function"
   ]
  },
  {
   "cell_type": "code",
   "execution_count": null,
   "metadata": {},
   "outputs": [
    {
     "ename": "NameError",
     "evalue": "name 'df_cleaned' is not defined",
     "output_type": "error",
     "traceback": [
      "\u001b[1;31m---------------------------------------------------------------------------\u001b[0m",
      "\u001b[1;31mNameError\u001b[0m                                 Traceback (most recent call last)",
      "Cell \u001b[1;32mIn[1], line 22\u001b[0m\n\u001b[0;32m     18\u001b[0m     text \u001b[38;5;241m=\u001b[39m text\u001b[38;5;241m.\u001b[39msplit()\n\u001b[0;32m     20\u001b[0m     \u001b[38;5;28;01mreturn\u001b[39;00m text\n\u001b[1;32m---> 22\u001b[0m df_cleaned[\u001b[38;5;124m'\u001b[39m\u001b[38;5;124mcomment_no_stopwords_list\u001b[39m\u001b[38;5;124m'\u001b[39m] \u001b[38;5;241m=\u001b[39m \u001b[43mdf_cleaned\u001b[49m[\u001b[38;5;124m'\u001b[39m\u001b[38;5;124mcomment_no_stopwords\u001b[39m\u001b[38;5;124m'\u001b[39m]\u001b[38;5;241m.\u001b[39mapply(\u001b[38;5;28;01mlambda\u001b[39;00m x: text_to_word_list(x, unidecode))\n\u001b[0;32m     23\u001b[0m df_cleaned[\u001b[38;5;124m'\u001b[39m\u001b[38;5;124mcomment_no_stopwords\u001b[39m\u001b[38;5;124m'\u001b[39m] \u001b[38;5;241m=\u001b[39m df_cleaned[\u001b[38;5;124m'\u001b[39m\u001b[38;5;124mcomment_no_stopwords\u001b[39m\u001b[38;5;124m'\u001b[39m]\u001b[38;5;241m.\u001b[39mapply(\u001b[38;5;28;01mlambda\u001b[39;00m x: text_to_word_list(x, unidecode))\n\u001b[0;32m     24\u001b[0m df_model \u001b[38;5;241m=\u001b[39m df_cleaned\u001b[38;5;241m.\u001b[39mcopy()\n",
      "\u001b[1;31mNameError\u001b[0m: name 'df_cleaned' is not defined"
     ]
    }
   ],
   "source": [
    "def text_to_word_list(text, remove_polish_letters):\n",
    "    ''' Pre process and convert texts to a list of words \n",
    "    method inspired by method from eliorc github repo: https://github.com/eliorc/Medium/blob/master/MaLSTM.ipynb'''\n",
    "    text = str(text)\n",
    "    text = text.lower()\n",
    "\n",
    "    # Clean the text\n",
    "    text = sub(r\"[^A-Za-z0-9^,!?.\\/'+]\", \" \", text)\n",
    "    text = sub(r\"\\+\", \" plus \", text)\n",
    "    text = sub(r\",\", \" \", text)\n",
    "    text = sub(r\"\\.\", \" \", text)\n",
    "    text = sub(r\"!\", \" ! \", text)\n",
    "    text = sub(r\"\\?\", \" ? \", text)\n",
    "    text = sub(r\"'\", \" \", text)\n",
    "    text = sub(r\":\", \" : \", text)\n",
    "    text = sub(r\"\\s{2,}\", \" \", text)\n",
    "\n",
    "    text = text.split()\n",
    "\n",
    "    return text\n",
    "\n",
    "df_cleaned['comment_no_stopwords_list'] = df_cleaned['comment_no_stopwords'].apply(lambda x: text_to_word_list(x, unidecode))\n",
    "df_cleaned['comment_no_stopwords'] = df_cleaned['comment_no_stopwords'].apply(lambda x: text_to_word_list(x, unidecode))\n",
    "df_model = df_cleaned.copy()"
   ]
  },
  {
   "cell_type": "markdown",
   "metadata": {},
   "source": [
    "### Creation of bigrams for co-occuring words"
   ]
  },
  {
   "cell_type": "code",
   "execution_count": 81,
   "metadata": {},
   "outputs": [
    {
     "name": "stderr",
     "output_type": "stream",
     "text": [
      "INFO - 12:40:39: collecting all words and their counts\n",
      "INFO - 12:40:39: PROGRESS: at sentence #0, processed 0 words and 0 word types\n",
      "INFO - 12:40:40: collected 208185 token types (unigram + bigrams) from a corpus of 257100 words and 13314 sentences\n",
      "INFO - 12:40:40: merged Phrases<208185 vocab, min_count=1, threshold=10.0, max_vocab_size=40000000>\n",
      "INFO - 12:40:40: Phrases lifecycle event {'msg': 'built Phrases<208185 vocab, min_count=1, threshold=10.0, max_vocab_size=40000000> in 0.81s', 'datetime': '2024-12-06T12:40:40.264303', 'gensim': '4.3.3', 'python': '3.10.11 (tags/v3.10.11:7d4cc5a, Apr  5 2023, 00:38:17) [MSC v.1929 64 bit (AMD64)]', 'platform': 'Windows-10-10.0.22631-SP0', 'event': 'created'}\n",
      "INFO - 12:40:40: exporting phrases from Phrases<208185 vocab, min_count=1, threshold=10.0, max_vocab_size=40000000>\n",
      "INFO - 12:40:40: FrozenPhrases lifecycle event {'msg': 'exported FrozenPhrases<10504 phrases, min_count=1, threshold=10.0> from Phrases<208185 vocab, min_count=1, threshold=10.0, max_vocab_size=40000000> in 0.66s', 'datetime': '2024-12-06T12:40:40.980094', 'gensim': '4.3.3', 'python': '3.10.11 (tags/v3.10.11:7d4cc5a, Apr  5 2023, 00:38:17) [MSC v.1929 64 bit (AMD64)]', 'platform': 'Windows-10-10.0.22631-SP0', 'event': 'created'}\n"
     ]
    },
    {
     "data": {
      "text/plain": [
       "['protest',\n",
       " 'non_voters',\n",
       " 'worst',\n",
       " 'type',\n",
       " 'privileged',\n",
       " 'people',\n",
       " 'believing',\n",
       " 'allowing',\n",
       " 'worse',\n",
       " 'outcome',\n",
       " 'single_issue',\n",
       " 'get',\n",
       " 'worse',\n",
       " 'non',\n",
       " 'vote',\n",
       " 'exact_opposite',\n",
       " 'trying_help',\n",
       " 'because']"
      ]
     },
     "execution_count": 81,
     "metadata": {},
     "output_type": "execute_result"
    }
   ],
   "source": [
    "sent = [row for row in df_model['comment_no_stopwords']]\n",
    "phrases = Phrases(sent, min_count=1, progress_per=50000)\n",
    "bigram = Phraser(phrases)\n",
    "sentences = bigram[sent]\n",
    "sentences[1]"
   ]
  },
  {
   "cell_type": "markdown",
   "metadata": {},
   "source": [
    "### Word2Vec model"
   ]
  },
  {
   "cell_type": "code",
   "execution_count": 82,
   "metadata": {},
   "outputs": [
    {
     "name": "stderr",
     "output_type": "stream",
     "text": [
      "INFO - 12:40:41: Word2Vec lifecycle event {'params': 'Word2Vec<vocab=0, vector_size=300, alpha=0.03>', 'datetime': '2024-12-06T12:40:41.005746', 'gensim': '4.3.3', 'python': '3.10.11 (tags/v3.10.11:7d4cc5a, Apr  5 2023, 00:38:17) [MSC v.1929 64 bit (AMD64)]', 'platform': 'Windows-10-10.0.22631-SP0', 'event': 'created'}\n",
      "INFO - 12:40:41: collecting all words and their counts\n",
      "INFO - 12:40:41: PROGRESS: at sentence #0, processed 0 words, keeping 0 word types\n",
      "INFO - 12:40:41: collected 30215 word types from a corpus of 223065 raw words and 13314 sentences\n",
      "INFO - 12:40:41: Creating a fresh vocabulary\n",
      "INFO - 12:40:41: Word2Vec lifecycle event {'msg': 'effective_min_count=3 retains 11537 unique words (38.18% of original 30215, drops 18678)', 'datetime': '2024-12-06T12:40:41.308201', 'gensim': '4.3.3', 'python': '3.10.11 (tags/v3.10.11:7d4cc5a, Apr  5 2023, 00:38:17) [MSC v.1929 64 bit (AMD64)]', 'platform': 'Windows-10-10.0.22631-SP0', 'event': 'prepare_vocab'}\n",
      "INFO - 12:40:41: Word2Vec lifecycle event {'msg': 'effective_min_count=3 leaves 196229 word corpus (87.97% of original 223065, drops 26836)', 'datetime': '2024-12-06T12:40:41.313954', 'gensim': '4.3.3', 'python': '3.10.11 (tags/v3.10.11:7d4cc5a, Apr  5 2023, 00:38:17) [MSC v.1929 64 bit (AMD64)]', 'platform': 'Windows-10-10.0.22631-SP0', 'event': 'prepare_vocab'}\n",
      "INFO - 12:40:41: deleting the raw counts dictionary of 30215 items\n",
      "INFO - 12:40:41: sample=1e-05 downsamples 5676 most-common words\n",
      "INFO - 12:40:41: Word2Vec lifecycle event {'msg': 'downsampling leaves estimated 68446.00235713553 word corpus (34.9%% of prior 196229)', 'datetime': '2024-12-06T12:40:41.411546', 'gensim': '4.3.3', 'python': '3.10.11 (tags/v3.10.11:7d4cc5a, Apr  5 2023, 00:38:17) [MSC v.1929 64 bit (AMD64)]', 'platform': 'Windows-10-10.0.22631-SP0', 'event': 'prepare_vocab'}\n",
      "INFO - 12:40:41: estimated required memory for 11537 words and 300 dimensions: 33457300 bytes\n",
      "INFO - 12:40:41: resetting layer weights\n",
      "INFO - 12:40:41: Word2Vec lifecycle event {'update': False, 'trim_rule': 'None', 'datetime': '2024-12-06T12:40:41.500929', 'gensim': '4.3.3', 'python': '3.10.11 (tags/v3.10.11:7d4cc5a, Apr  5 2023, 00:38:17) [MSC v.1929 64 bit (AMD64)]', 'platform': 'Windows-10-10.0.22631-SP0', 'event': 'build_vocab'}\n"
     ]
    },
    {
     "name": "stdout",
     "output_type": "stream",
     "text": [
      "Vocab creation time: 0.01 mins\n"
     ]
    }
   ],
   "source": [
    "w2v_model = Word2Vec(min_count=3,\n",
    "                     window=4,\n",
    "                     vector_size=300,\n",
    "                     sample=1e-5, \n",
    "                     alpha=0.03, \n",
    "                     min_alpha=0.0007, \n",
    "                     negative=20,\n",
    "                     workers=multiprocessing.cpu_count()-1)\n",
    "\n",
    "start = time()\n",
    "\n",
    "w2v_model.build_vocab(sentences, progress_per=50000)\n",
    "\n",
    "print('Vocab creation time: {} mins'.format(round((time() - start) / 60, 2)))"
   ]
  },
  {
   "cell_type": "markdown",
   "metadata": {},
   "source": [
    "### Training"
   ]
  },
  {
   "cell_type": "code",
   "execution_count": 83,
   "metadata": {},
   "outputs": [
    {
     "name": "stderr",
     "output_type": "stream",
     "text": [
      "INFO - 12:40:41: Word2Vec lifecycle event {'msg': 'training model with 7 workers on 11537 vocabulary and 300 features, using sg=0 hs=0 sample=1e-05 negative=20 window=4 shrink_windows=True', 'datetime': '2024-12-06T12:40:41.519180', 'gensim': '4.3.3', 'python': '3.10.11 (tags/v3.10.11:7d4cc5a, Apr  5 2023, 00:38:17) [MSC v.1929 64 bit (AMD64)]', 'platform': 'Windows-10-10.0.22631-SP0', 'event': 'train'}\n",
      "INFO - 12:40:41: EPOCH 0: training on 223065 raw words (68338 effective words) took 0.4s, 170312 effective words/s\n",
      "INFO - 12:40:42: EPOCH 1: training on 223065 raw words (68466 effective words) took 0.3s, 210194 effective words/s\n",
      "INFO - 12:40:42: EPOCH 2: training on 223065 raw words (68248 effective words) took 0.3s, 206541 effective words/s\n",
      "INFO - 12:40:43: EPOCH 3: training on 223065 raw words (68425 effective words) took 0.5s, 150446 effective words/s\n",
      "INFO - 12:40:43: EPOCH 4: training on 223065 raw words (68591 effective words) took 0.5s, 130581 effective words/s\n",
      "INFO - 12:40:44: EPOCH 5: training on 223065 raw words (68364 effective words) took 0.4s, 195024 effective words/s\n",
      "INFO - 12:40:44: EPOCH 6: training on 223065 raw words (68372 effective words) took 0.4s, 180911 effective words/s\n",
      "INFO - 12:40:44: EPOCH 7: training on 223065 raw words (68389 effective words) took 0.6s, 122210 effective words/s\n",
      "INFO - 12:40:45: EPOCH 8: training on 223065 raw words (68393 effective words) took 0.5s, 139560 effective words/s\n",
      "INFO - 12:40:45: EPOCH 9: training on 223065 raw words (68417 effective words) took 0.4s, 190837 effective words/s\n",
      "INFO - 12:40:46: EPOCH 10: training on 223065 raw words (68494 effective words) took 0.3s, 197584 effective words/s\n",
      "INFO - 12:40:46: EPOCH 11: training on 223065 raw words (68504 effective words) took 0.4s, 173115 effective words/s\n",
      "INFO - 12:40:47: EPOCH 12: training on 223065 raw words (68497 effective words) took 0.4s, 194319 effective words/s\n",
      "INFO - 12:40:47: EPOCH 13: training on 223065 raw words (68261 effective words) took 0.6s, 117684 effective words/s\n",
      "INFO - 12:40:48: EPOCH 14: training on 223065 raw words (68346 effective words) took 0.5s, 148326 effective words/s\n",
      "INFO - 12:40:48: EPOCH 15: training on 223065 raw words (68308 effective words) took 0.4s, 182976 effective words/s\n",
      "INFO - 12:40:48: EPOCH 16: training on 223065 raw words (68443 effective words) took 0.4s, 173618 effective words/s\n",
      "INFO - 12:40:49: EPOCH 17: training on 223065 raw words (68378 effective words) took 0.4s, 190897 effective words/s\n",
      "INFO - 12:40:49: EPOCH 18: training on 223065 raw words (68612 effective words) took 0.4s, 164462 effective words/s\n",
      "INFO - 12:40:50: EPOCH 19: training on 223065 raw words (68517 effective words) took 0.4s, 174985 effective words/s\n",
      "INFO - 12:40:50: EPOCH 20: training on 223065 raw words (68491 effective words) took 0.4s, 193226 effective words/s\n",
      "INFO - 12:40:50: EPOCH 21: training on 223065 raw words (68489 effective words) took 0.3s, 199498 effective words/s\n",
      "INFO - 12:40:51: EPOCH 22: training on 223065 raw words (68304 effective words) took 0.4s, 159826 effective words/s\n",
      "INFO - 12:40:51: EPOCH 23: training on 223065 raw words (68300 effective words) took 0.4s, 185430 effective words/s\n",
      "INFO - 12:40:52: EPOCH 24: training on 223065 raw words (68530 effective words) took 0.7s, 103929 effective words/s\n",
      "INFO - 12:40:52: EPOCH 25: training on 223065 raw words (68338 effective words) took 0.4s, 190949 effective words/s\n",
      "INFO - 12:40:53: EPOCH 26: training on 223065 raw words (68367 effective words) took 0.4s, 190144 effective words/s\n",
      "INFO - 12:40:53: EPOCH 27: training on 223065 raw words (68635 effective words) took 0.4s, 175731 effective words/s\n",
      "INFO - 12:40:53: EPOCH 28: training on 223065 raw words (68286 effective words) took 0.4s, 160179 effective words/s\n",
      "INFO - 12:40:54: EPOCH 29: training on 223065 raw words (68452 effective words) took 0.5s, 144620 effective words/s\n",
      "INFO - 12:40:54: Word2Vec lifecycle event {'msg': 'training on 6691950 raw words (2052555 effective words) took 12.9s, 158913 effective words/s', 'datetime': '2024-12-06T12:40:54.437103', 'gensim': '4.3.3', 'python': '3.10.11 (tags/v3.10.11:7d4cc5a, Apr  5 2023, 00:38:17) [MSC v.1929 64 bit (AMD64)]', 'platform': 'Windows-10-10.0.22631-SP0', 'event': 'train'}\n",
      "C:\\Users\\danie\\AppData\\Local\\Temp\\ipykernel_24512\\397523926.py:7: DeprecationWarning: Call to deprecated `init_sims` (Gensim 4.0.0 implemented internal optimizations that make calls to init_sims() unnecessary. init_sims() is now obsoleted and will be completely removed in future versions. See https://github.com/RaRe-Technologies/gensim/wiki/Migrating-from-Gensim-3.x-to-4).\n",
      "  w2v_model.init_sims(replace=True)\n",
      "WARNING - 12:40:54: destructive init_sims(replace=True) deprecated & no longer required for space-efficiency\n"
     ]
    },
    {
     "name": "stdout",
     "output_type": "stream",
     "text": [
      "Time to train the model: 0.22 mins\n"
     ]
    }
   ],
   "source": [
    "start = time()\n",
    "\n",
    "w2v_model.train(sentences, total_examples=w2v_model.corpus_count, epochs=30, report_delay=1)\n",
    "\n",
    "print('Time to train the model: {} mins'.format(round((time() - start) / 60, 2)))\n",
    "\n",
    "w2v_model.init_sims(replace=True)"
   ]
  },
  {
   "cell_type": "code",
   "execution_count": 84,
   "metadata": {},
   "outputs": [
    {
     "name": "stderr",
     "output_type": "stream",
     "text": [
      "INFO - 12:40:54: Word2Vec lifecycle event {'fname_or_handle': 'data/sentiment/word2vec.model', 'separately': 'None', 'sep_limit': 10485760, 'ignore': frozenset(), 'datetime': '2024-12-06T12:40:54.464185', 'gensim': '4.3.3', 'python': '3.10.11 (tags/v3.10.11:7d4cc5a, Apr  5 2023, 00:38:17) [MSC v.1929 64 bit (AMD64)]', 'platform': 'Windows-10-10.0.22631-SP0', 'event': 'saving'}\n",
      "INFO - 12:40:54: not storing attribute cum_table\n",
      "INFO - 12:40:54: saved data/sentiment/word2vec.model\n"
     ]
    }
   ],
   "source": [
    "w2v_model.save(\"data/sentiment/word2vec.model\")"
   ]
  },
  {
   "cell_type": "markdown",
   "metadata": {},
   "source": [
    "### Applying co-occurence to data"
   ]
  },
  {
   "cell_type": "code",
   "execution_count": 85,
   "metadata": {},
   "outputs": [],
   "source": [
    "df_model_export = df_model.copy()\n",
    "df_model_export['old_comment_no_stopwords'] = df_model_export['comment_no_stopwords']\n",
    "df_model_export.old_comment_no_stopwords = df_model_export.old_comment_no_stopwords.str.join(' ')\n",
    "df_model_export['comment_no_stopwords'] = df_model_export['comment_no_stopwords'].apply(lambda x: ' '.join(bigram[x]))\n",
    "\n",
    "df_model_export.to_csv(\"data/sentiment/cleaned_comments_preprocessed.csv\", index=False)"
   ]
  },
  {
   "cell_type": "code",
   "execution_count": 86,
   "metadata": {},
   "outputs": [
    {
     "name": "stderr",
     "output_type": "stream",
     "text": [
      "INFO - 12:40:56: loading Word2Vec object from data/sentiment/word2vec.model\n",
      "INFO - 12:40:56: loading wv recursively from data/sentiment/word2vec.model.wv.* with mmap=None\n",
      "INFO - 12:40:56: setting ignored attribute cum_table to None\n",
      "INFO - 12:40:56: Word2Vec lifecycle event {'fname': 'data/sentiment/word2vec.model', 'datetime': '2024-12-06T12:40:56.795717', 'gensim': '4.3.3', 'python': '3.10.11 (tags/v3.10.11:7d4cc5a, Apr  5 2023, 00:38:17) [MSC v.1929 64 bit (AMD64)]', 'platform': 'Windows-10-10.0.22631-SP0', 'event': 'loaded'}\n"
     ]
    }
   ],
   "source": [
    "word_vectors = Word2Vec.load(\"data/sentiment/word2vec.model\").wv"
   ]
  },
  {
   "cell_type": "markdown",
   "metadata": {},
   "source": [
    "### Elbow method and Silhouette score for K-means clustering"
   ]
  },
  {
   "cell_type": "code",
   "execution_count": 87,
   "metadata": {},
   "outputs": [
    {
     "data": {
      "image/png": "[encoded data removed]",
      "text/plain": [
       "<Figure size 800x500 with 1 Axes>"
      ]
     },
     "metadata": {},
     "output_type": "display_data"
    },
    {
     "data": {
      "image/png": "[encoded data removed]",
      "text/plain": [
       "<Figure size 800x500 with 1 Axes>"
      ]
     },
     "metadata": {},
     "output_type": "display_data"
    }
   ],
   "source": [
    "# Range of k clusters\n",
    "k_values = range(2, 10)\n",
    "inertia = []\n",
    "silhouette_scores = []\n",
    "\n",
    "for k in k_values:\n",
    "    kmeans = KMeans(n_clusters=k, random_state=42, n_init=10)\n",
    "    kmeans.fit(X=word_vectors.vectors.astype('double')) \n",
    "    inertia.append(kmeans.inertia_)\n",
    "\n",
    "    # Compute silhouette score\n",
    "    labels = kmeans.labels_\n",
    "    silhouette = silhouette_score(word_vectors.vectors.astype('double'), labels)\n",
    "    silhouette_scores.append(silhouette)\n",
    "\n",
    "# Plot inertia vs. k\n",
    "plt.figure(figsize=(8, 5))\n",
    "plt.plot(k_values, inertia, marker='o')\n",
    "plt.xlabel('Number of Clusters (k)')\n",
    "plt.ylabel('Inertia')\n",
    "plt.title('Elbow Method to Determine Optimal k')\n",
    "plt.show()\n",
    "\n",
    "plt.figure(figsize=(8, 5))\n",
    "plt.plot(k_values, silhouette_scores, marker='o', color='orange', label='Silhouette Score')\n",
    "plt.xlabel('Number of Clusters (k)')\n",
    "plt.ylabel('Silhouette Score')\n",
    "plt.title('Silhouette Score to Determine Optimal k')\n",
    "plt.legend()\n",
    "plt.show()"
   ]
  },
  {
   "cell_type": "code",
   "execution_count": 88,
   "metadata": {},
   "outputs": [
    {
     "data": {
      "text/plain": [
       "[0.9452562257036207,\n",
       " 0.9430849275639605,\n",
       " 0.8632610443758045,\n",
       " 0.8349198087297622,\n",
       " 0.8259741236131555,\n",
       " 0.007418045431917498,\n",
       " 0.006721399691380924,\n",
       " 0.007160201034859574]"
      ]
     },
     "execution_count": 88,
     "metadata": {},
     "output_type": "execute_result"
    }
   ],
   "source": [
    "silhouette_scores"
   ]
  },
  {
   "cell_type": "code",
   "execution_count": 89,
   "metadata": {},
   "outputs": [
    {
     "name": "stdout",
     "output_type": "stream",
     "text": [
      "Silhoutte score for 2 clusters: 0.9452562257036207\n",
      "Silhoutte score for 3 clusters: 0.9430849275639605\n",
      "Silhoutte score for 4 clusters: 0.8632610443758045\n",
      "Silhoutte score for 5 clusters: 0.8349198087297622\n",
      "Silhoutte score for 6 clusters: 0.8259741236131555\n",
      "Silhoutte score for 7 clusters: 0.007418045431917498\n",
      "Silhoutte score for 8 clusters: 0.006721399691380924\n",
      "Silhoutte score for 9 clusters: 0.007160201034859574\n"
     ]
    }
   ],
   "source": [
    "for k in range(len(k_values)):\n",
    "    print(f\"Silhoutte score for {k+2} clusters: {silhouette_scores[k]}\")"
   ]
  },
  {
   "cell_type": "code",
   "execution_count": 90,
   "metadata": {},
   "outputs": [],
   "source": [
    "model = KMeans(n_clusters=5, max_iter=1000, random_state=True, n_init=50).fit(X=word_vectors.vectors.astype('double'))"
   ]
  },
  {
   "cell_type": "code",
   "execution_count": 91,
   "metadata": {},
   "outputs": [
    {
     "data": {
      "text/plain": [
       "[('!_bot', 0.9981291890144348),\n",
       " ('please_contact', 0.9973862171173096),\n",
       " ('hunegypt_!', 0.9972479343414307),\n",
       " ('thanks_posting', 0.9971970319747925),\n",
       " ('action_performed', 0.9971771240234375),\n",
       " ('performed_automatically', 0.9970801472663879),\n",
       " ('moderators_subreddit', 0.9970247745513916),\n",
       " ('bot_action', 0.9968712329864502),\n",
       " ('message_compose', 0.9959796667098999),\n",
       " ('to_r', 0.9957473278045654),\n",
       " ('palestine_questions', 0.995533287525177),\n",
       " ('automatically_please', 0.9955101013183594),\n",
       " ('contact_moderators', 0.9944219589233398),\n",
       " ('!_thanks', 0.9940510392189026),\n",
       " ('subreddit_message', 0.9936357140541077),\n",
       " ('compose_?', 0.9929854869842529),\n",
       " ('concerns', 0.9928246140480042),\n",
       " ('posting', 0.98865807056427),\n",
       " ('consistent', 0.9885432720184326),\n",
       " ('dependent', 0.9883238077163696),\n",
       " ('!_!', 0.9880175590515137),\n",
       " ('0', 0.9872868061065674),\n",
       " ('red_!', 0.9865134954452515),\n",
       " ('extension', 0.9854593873023987),\n",
       " ('liked', 0.9847797155380249),\n",
       " ('global_stage', 0.9845848083496094),\n",
       " ('foreign_policy', 0.9845776557922363),\n",
       " ('foreign_governments', 0.9845004081726074),\n",
       " ('polled', 0.9842432737350464),\n",
       " ('flagged', 0.9842134714126587),\n",
       " ('big_deborah', 0.9841291904449463),\n",
       " ('foreign_agents', 0.9841116666793823),\n",
       " ('unrelated', 0.9840771555900574),\n",
       " ('confirmed', 0.9840044379234314),\n",
       " ('post_download', 0.9840009212493896),\n",
       " ('defenses', 0.9839871525764465),\n",
       " ('decisions', 0.983960747718811),\n",
       " ('clip', 0.9839600324630737),\n",
       " ('us_troops', 0.9839308857917786),\n",
       " ('spirit', 0.9839255809783936),\n",
       " ('42', 0.9839159250259399),\n",
       " ('upcoming', 0.9838689565658569),\n",
       " ('ending', 0.983839213848114),\n",
       " ('full_stop', 0.9838269948959351),\n",
       " ('spoiler', 0.9838259220123291),\n",
       " ('persuade', 0.9838142395019531),\n",
       " ('wow_!', 0.983809232711792),\n",
       " ('prisoners', 0.983806312084198),\n",
       " ('haha', 0.983805775642395),\n",
       " ('castro', 0.983803391456604)]"
      ]
     },
     "execution_count": 91,
     "metadata": {},
     "output_type": "execute_result"
    }
   ],
   "source": [
    "word_vectors.similar_by_vector(model.cluster_centers_[4], topn=50, restrict_vocab=None)"
   ]
  },
  {
   "cell_type": "code",
   "execution_count": 92,
   "metadata": {},
   "outputs": [],
   "source": [
    "positive_cluster_index = 0\n",
    "positive_cluster_center = model.cluster_centers_[positive_cluster_index]\n",
    "negative_cluster_center = model.cluster_centers_[1-positive_cluster_index]"
   ]
  },
  {
   "cell_type": "code",
   "execution_count": 93,
   "metadata": {},
   "outputs": [],
   "source": [
    "words = pd.DataFrame(word_vectors.index_to_key)\n",
    "words.columns = ['words']\n",
    "words['vectors'] = words.words.apply(lambda x: word_vectors[f'{x}'])\n",
    "words['cluster'] = words.vectors.apply(lambda x: model.predict([np.array(x)]))\n",
    "words.cluster = words.cluster.apply(lambda x: x[0])"
   ]
  },
  {
   "cell_type": "code",
   "execution_count": 94,
   "metadata": {},
   "outputs": [],
   "source": [
    "words['cluster_value'] = [1 if i==positive_cluster_index else -1 for i in words.cluster]\n",
    "words['closeness_score'] = words.apply(lambda x: 1/(model.transform([x.vectors]).min()), axis=1)\n",
    "words['sentiment_coeff'] = words.closeness_score * words.cluster_value"
   ]
  },
  {
   "cell_type": "code",
   "execution_count": 95,
   "metadata": {},
   "outputs": [],
   "source": [
    "words[['words', 'sentiment_coeff']].to_csv('data/sentiment/sentiment_dictionary.csv', index=False)"
   ]
  },
  {
   "cell_type": "code",
   "execution_count": 96,
   "metadata": {},
   "outputs": [],
   "source": [
    "sentiment_map = pd.read_csv('data/sentiment/sentiment_dictionary.csv')\n",
    "sentiment_dict = dict(zip(sentiment_map.words.values, sentiment_map.sentiment_coeff.values))"
   ]
  },
  {
   "cell_type": "code",
   "execution_count": 97,
   "metadata": {},
   "outputs": [
    {
     "name": "stderr",
     "output_type": "stream",
     "text": [
      "c:\\Users\\danie\\OneDrive - Danmarks Tekniske Universitet\\Dokumenter\\7. semester\\Computational tools for data science\\ComputationalEnv\\lib\\site-packages\\sklearn\\feature_extraction\\text.py:521: UserWarning: The parameter 'token_pattern' will not be used since 'tokenizer' is not None'\n",
      "  warnings.warn(\n"
     ]
    }
   ],
   "source": [
    "final_df = pd.read_csv(\"data/sentiment/cleaned_comments_preprocessed.csv\")\n",
    "df_weighting = final_df.copy()\n",
    "df_weighting = df_weighting[df_weighting['comment_no_stopwords'].str.len()>0]\n",
    "df_weighting = df_weighting.reset_index(drop=True)\n",
    "\n",
    "tfidf = TfidfVectorizer(tokenizer=lambda y: y.split(), norm=None)\n",
    "tfidf.fit(df_weighting['comment_no_stopwords'])\n",
    "features = pd.Series(tfidf.get_feature_names_out())\n"
   ]
  },
  {
   "cell_type": "code",
   "execution_count": 98,
   "metadata": {},
   "outputs": [],
   "source": [
    "missing_words =pd.Series(['every_single'])\n",
    "features = pd.concat([features, missing_words]).reset_index(drop=True)\n",
    "transformed = tfidf.transform(df_weighting['comment_no_stopwords'])"
   ]
  },
  {
   "cell_type": "code",
   "execution_count": 99,
   "metadata": {},
   "outputs": [],
   "source": [
    "def create_tfidf_dictionary(x, transformed_file, features):\n",
    "    '''\n",
    "    create dictionary for each input sentence x, where each word has assigned its tfidf score\n",
    "    \n",
    "    inspired  by function from this wonderful article: \n",
    "    https://medium.com/analytics-vidhya/automated-keyword-extraction-from-articles-using-nlp-bfd864f41b34\n",
    "    \n",
    "    x - row of dataframe, containing sentences, and their indexes,\n",
    "    transformed_file - all sentences transformed with TfidfVectorizer\n",
    "    features - names of all words in corpus used in TfidfVectorizer\n",
    "\n",
    "    '''\n",
    "    vector_coo = transformed_file[x.name].tocoo()\n",
    "    words = features.iloc[vector_coo.col].values\n",
    "    dict_from_coo = dict(zip(vector_coo.col, vector_coo.data))\n",
    "    return dict_from_coo\n",
    "\n",
    "def replace_tfidf_words(x, transformed_file, features):\n",
    "    '''\n",
    "    replacing each word with it's calculated tfidf dictionary with scores of each word\n",
    "    x - row of dataframe, containing sentences, and their indexes,\n",
    "    transformed_file - all sentences transformed with TfidfVectorizer\n",
    "    features - names of all words in corpus used in TfidfVectorizer\n",
    "    '''\n",
    "    dictionary = create_tfidf_dictionary(x, transformed_file, features)   \n",
    "    return list(map(lambda y: dictionary.get(y, 0), x['comment_no_stopwords'].split()))"
   ]
  },
  {
   "cell_type": "code",
   "execution_count": 100,
   "metadata": {},
   "outputs": [
    {
     "name": "stdout",
     "output_type": "stream",
     "text": [
      "CPU times: total: 1.2 s\n",
      "Wall time: 3.27 s\n"
     ]
    }
   ],
   "source": [
    "%%time\n",
    "replaced_tfidf_scores = df_weighting.apply(lambda x: replace_tfidf_words(x, transformed, features), axis=1) # this step takes around 3-4 minutes minutes to calculate"
   ]
  },
  {
   "cell_type": "code",
   "execution_count": 101,
   "metadata": {},
   "outputs": [],
   "source": [
    "def replace_sentiment_words(word, sentiment_dict):\n",
    "    '''\n",
    "    replacing each word with its associated sentiment score from sentiment dict\n",
    "    '''\n",
    "    try:\n",
    "        out = sentiment_dict[word]\n",
    "    except KeyError:\n",
    "        out = 0\n",
    "    return out"
   ]
  },
  {
   "cell_type": "code",
   "execution_count": 102,
   "metadata": {},
   "outputs": [],
   "source": [
    "replaced_closeness_scores = df_weighting['comment_no_stopwords'].apply(lambda x: list(map(lambda y: replace_sentiment_words(y, sentiment_dict), x.split())))"
   ]
  },
  {
   "cell_type": "code",
   "execution_count": 103,
   "metadata": {},
   "outputs": [],
   "source": [
    "replacement_df = pd.DataFrame(data=[replaced_closeness_scores, replaced_tfidf_scores, df_weighting['comment_no_stopwords']]).T\n",
    "replacement_df.columns = ['sentiment_coeff', 'tfidf_scores', 'sentence']\n",
    "replacement_df['sentiment_rate'] = replacement_df.apply(lambda x: np.array(x.loc['sentiment_coeff']) @ np.array(x.loc['tfidf_scores']), axis=1)"
   ]
  },
  {
   "cell_type": "code",
   "execution_count": 104,
   "metadata": {},
   "outputs": [],
   "source": [
    "replacement_df['sentiment_score_unsupervised'] = replacement_df['sentiment_coeff'].apply(np.mean)"
   ]
  },
  {
   "cell_type": "code",
   "execution_count": 105,
   "metadata": {},
   "outputs": [],
   "source": [
    "df_final = pd.read_csv(\"data/sentiment/cleaned_comments_preprocessed.csv\")\n",
    "df_final['sentiment_score_unsupervised'] = replacement_df['sentiment_score_unsupervised']\n",
    "\n",
    "df_final.to_csv('data/sentiment/cleaned_comments_preprocessed.csv', index=False)"
   ]
  }
 ],
 "metadata": {
  "kernelspec": {
   "display_name": "ComputationalEnv",
   "language": "python",
   "name": "python3"
  },
  "language_info": {
   "codemirror_mode": {
    "name": "ipython",
    "version": 3
   },
   "file_extension": ".py",
   "mimetype": "text/x-python",
   "name": "python",
   "nbconvert_exporter": "python",
   "pygments_lexer": "ipython3",
   "version": "3.10.11"
  }
 },
 "nbformat": 4,
 "nbformat_minor": 2
}
