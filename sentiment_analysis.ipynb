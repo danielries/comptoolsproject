{
 "cells": [
  {
   "cell_type": "code",
   "execution_count": null,
   "metadata": {},
   "outputs": [],
   "source": [
    "from afinn import Afinn\n",
    "from collections import defaultdict\n",
    "\n",
    "# Load AFINN lexicon with defaultdict to handle missing words\n",
    "sent_lexicon = defaultdict(lambda: 0, Afinn()._dict)\n",
    "\n",
    "# Function to calculate sentiment score for a single text\n",
    "def calculate_sentiment(text):\n",
    "\n",
    "    #print(*(sent_lexicon[word] for word in text), sep='\\n')\n",
    "    \n",
    "    # Sum up the sentiment scores of each word in the text\n",
    "    sentiment_score = sum(sent_lexicon[word] for word in text)\n",
    "    \n",
    "    # Optionally normalize by the number of words (average sentiment per word)\n",
    "    if len(text) > 0:\n",
    "        normalized_score = sentiment_score / len(text)\n",
    "    else:\n",
    "        normalized_score = 0\n",
    "\n",
    "    # if normalized_score == 0:\n",
    "    #     print('text:', text)\n",
    "    #     print('sentiment_score:', sentiment_score)\n",
    "    #     print('len(text):', len(text))\n",
    "    #     print('normalized_score:', normalized_score)\n",
    "    # else:\n",
    "    #     print('text:', text)\n",
    "    #     print('sentiment_score:', sentiment_score)\n",
    "    #     print('len(text):', len(text))\n",
    "    #     print('normalized_score:', normalized_score)\n",
    "    if normalized_score != 0:\n",
    "        print('text:', text)\n",
    "        print('sentiment_score:', sentiment_score)\n",
    "        print('len(text):', len(text))\n",
    "        print('normalized_score:', normalized_score)\n",
    "        \n",
    "    return normalized_score"
   ]
  }
 ],
 "metadata": {
  "language_info": {
   "name": "python"
  }
 },
 "nbformat": 4,
 "nbformat_minor": 2
}
