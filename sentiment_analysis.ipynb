{
 "cells": [
  {
   "cell_type": "code",
   "execution_count": null,
   "metadata": {},
   "outputs": [],
   "source": [
    "# Function to calculate sentiment score for a single text\n",
    "def calculate_sentiment(input_text):\n",
    "    text = input_text.split()\n",
    "    from afinn import Afinn\n",
    "    from collections import defaultdict\n",
    "\n",
    "    # Load AFINN lexicon with defaultdict to handle missing words\n",
    "    sent_lexicon = defaultdict(lambda: 0, Afinn()._dict)\n",
    "\n",
    "    #print(*(sent_lexicon[word] for word in text), sep='\\n')\n",
    "    \n",
    "    # Sum up the sentiment scores of each word in the text\n",
    "    sentiment_score = sum(sent_lexicon[word] for word in text)\n",
    "    \n",
    "    # Optionally normalize by the number of words (average sentiment per word)\n",
    "    if len(text) > 0:\n",
    "        normalized_score = sentiment_score / len(text)\n",
    "    else:\n",
    "        normalized_score = 0\n",
    "\n",
    "    # if normalized_score > 0:\n",
    "    #     print('text:', text)\n",
    "    #     print('sentiment_score:', sentiment_score)\n",
    "    #     print('len(text):', len(text))\n",
    "    #     print('normalized_score:', normalized_score)\n",
    "        \n",
    "    return normalized_score"
   ]
  },
  {
   "cell_type": "markdown",
   "metadata": {},
   "source": [
    "De her to er også en mulighed"
   ]
  },
  {
   "cell_type": "code",
   "execution_count": null,
   "metadata": {},
   "outputs": [],
   "source": [
    "from vaderSentiment.vaderSentiment import SentimentIntensityAnalyzer\n",
    "\n",
    "def calculate_sentiment_vader(input_text):\n",
    "    analyzer = SentimentIntensityAnalyzer()\n",
    "    sentiment = analyzer.polarity_scores(input_text)\n",
    "    return sentiment['compound']  # Returns a score between -1 (negative) and +1 (positive)"
   ]
  },
  {
   "cell_type": "code",
   "execution_count": null,
   "metadata": {},
   "outputs": [],
   "source": [
    "from textblob import TextBlob\n",
    "\n",
    "def calculate_sentiment_textblob(input_text):\n",
    "    blob = TextBlob(input_text)\n",
    "    return blob.sentiment.polarity  # Returns a score between -1 and +1"
   ]
  }
 ],
 "metadata": {
  "kernelspec": {
   "display_name": "ComputationalEnv",
   "language": "python",
   "name": "python3"
  },
  "language_info": {
   "codemirror_mode": {
    "name": "ipython",
    "version": 3
   },
   "file_extension": ".py",
   "mimetype": "text/x-python",
   "name": "python",
   "nbconvert_exporter": "python",
   "pygments_lexer": "ipython3",
   "version": "3.10.11"
  }
 },
 "nbformat": 4,
 "nbformat_minor": 2
}
