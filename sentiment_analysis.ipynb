{
 "cells": [
  {
   "cell_type": "markdown",
   "metadata": {},
   "source": [
    "# Sentiment analysis"
   ]
  },
  {
   "cell_type": "markdown",
   "metadata": {},
   "source": [
    "### Import libraries"
   ]
  },
  {
   "cell_type": "code",
   "execution_count": 1,
   "metadata": {},
   "outputs": [],
   "source": [
    "import re\n",
    "import logging\n",
    "import numpy as np\n",
    "import pandas as pd\n",
    "import multiprocessing\n",
    "import matplotlib.pyplot as plt\n",
    "\n",
    "from re import sub\n",
    "from time import time \n",
    "from unidecode import unidecode\n",
    "from gensim.models import Word2Vec\n",
    "from collections import defaultdict\n",
    "from gensim.models import KeyedVectors\n",
    "from gensim.test.utils import get_tmpfile\n",
    "from gensim.models.phrases import Phrases, Phraser\n",
    "\n",
    "from sklearn.cluster import KMeans\n",
    "from IPython.display import display\n",
    "from sklearn.feature_extraction.text import TfidfVectorizer\n",
    "from sklearn.metrics import silhouette_score\n",
    "\n",
    "logging.basicConfig(format=\"%(levelname)s - %(asctime)s: %(message)s\", datefmt= '%H:%M:%S', level=logging.INFO)\n"
   ]
  },
  {
   "cell_type": "markdown",
   "metadata": {},
   "source": [
    "### Load data"
   ]
  },
  {
   "cell_type": "code",
   "execution_count": 2,
   "metadata": {},
   "outputs": [],
   "source": [
    "df_combined = pd.read_csv('data/sentiment/combined_preprocessed_comments.csv')\n",
    "df_cleaned = df_combined.dropna().drop_duplicates().reset_index(drop=True)"
   ]
  },
  {
   "cell_type": "markdown",
   "metadata": {},
   "source": [
    "### Text to word list function"
   ]
  },
  {
   "cell_type": "code",
   "execution_count": 3,
   "metadata": {},
   "outputs": [],
   "source": [
    "def text_to_word_list(text, remove_polish_letters):\n",
    "    ''' Pre process and convert texts to a list of words \n",
    "    method inspired by method from eliorc github repo: https://github.com/eliorc/Medium/blob/master/MaLSTM.ipynb'''\n",
    "    text = str(text)\n",
    "    text = text.lower()\n",
    "\n",
    "    # Clean the text\n",
    "    text = sub(r\"[^A-Za-z0-9^,!?.\\/'+]\", \" \", text)\n",
    "    text = sub(r\"\\+\", \" plus \", text)\n",
    "    text = sub(r\",\", \" \", text)\n",
    "    text = sub(r\"\\.\", \" \", text)\n",
    "    text = sub(r\"!\", \" ! \", text)\n",
    "    text = sub(r\"\\?\", \" ? \", text)\n",
    "    text = sub(r\"'\", \" \", text)\n",
    "    text = sub(r\":\", \" : \", text)\n",
    "    text = sub(r\"\\s{2,}\", \" \", text)\n",
    "\n",
    "    text = text.split()\n",
    "\n",
    "    return text\n",
    "\n",
    "df_cleaned['comment_no_stopwords_list'] = df_cleaned['comment_no_stopwords'].apply(lambda x: text_to_word_list(x, unidecode))\n",
    "df_cleaned['comment_no_stopwords'] = df_cleaned['comment_no_stopwords'].apply(lambda x: text_to_word_list(x, unidecode))\n",
    "df_model = df_cleaned.copy()"
   ]
  },
  {
   "cell_type": "markdown",
   "metadata": {},
   "source": [
    "### Creation of bigrams for co-occuring words"
   ]
  },
  {
   "cell_type": "code",
   "execution_count": 4,
   "metadata": {},
   "outputs": [
    {
     "name": "stderr",
     "output_type": "stream",
     "text": [
      "INFO - 19:11:42: collecting all words and their counts\n",
      "INFO - 19:11:42: PROGRESS: at sentence #0, processed 0 words and 0 word types\n",
      "INFO - 19:11:42: collected 208185 token types (unigram + bigrams) from a corpus of 257100 words and 13314 sentences\n",
      "INFO - 19:11:42: merged Phrases<208185 vocab, min_count=1, threshold=10.0, max_vocab_size=40000000>\n",
      "INFO - 19:11:42: Phrases lifecycle event {'msg': 'built Phrases<208185 vocab, min_count=1, threshold=10.0, max_vocab_size=40000000> in 0.39s', 'datetime': '2024-12-06T19:11:42.564366', 'gensim': '4.3.3', 'python': '3.10.11 (tags/v3.10.11:7d4cc5a, Apr  5 2023, 00:38:17) [MSC v.1929 64 bit (AMD64)]', 'platform': 'Windows-10-10.0.22631-SP0', 'event': 'created'}\n",
      "INFO - 19:11:42: exporting phrases from Phrases<208185 vocab, min_count=1, threshold=10.0, max_vocab_size=40000000>\n",
      "INFO - 19:11:42: FrozenPhrases lifecycle event {'msg': 'exported FrozenPhrases<10504 phrases, min_count=1, threshold=10.0> from Phrases<208185 vocab, min_count=1, threshold=10.0, max_vocab_size=40000000> in 0.41s', 'datetime': '2024-12-06T19:11:42.976082', 'gensim': '4.3.3', 'python': '3.10.11 (tags/v3.10.11:7d4cc5a, Apr  5 2023, 00:38:17) [MSC v.1929 64 bit (AMD64)]', 'platform': 'Windows-10-10.0.22631-SP0', 'event': 'created'}\n"
     ]
    },
    {
     "data": {
      "text/plain": [
       "['protest',\n",
       " 'non_voters',\n",
       " 'worst',\n",
       " 'type',\n",
       " 'privileged',\n",
       " 'people',\n",
       " 'believing',\n",
       " 'allowing',\n",
       " 'worse',\n",
       " 'outcome',\n",
       " 'single_issue',\n",
       " 'get',\n",
       " 'worse',\n",
       " 'non',\n",
       " 'vote',\n",
       " 'exact_opposite',\n",
       " 'trying_help',\n",
       " 'because']"
      ]
     },
     "execution_count": 4,
     "metadata": {},
     "output_type": "execute_result"
    }
   ],
   "source": [
    "sent = [row for row in df_model['comment_no_stopwords']]\n",
    "phrases = Phrases(sent, min_count=1, progress_per=50000)\n",
    "bigram = Phraser(phrases)\n",
    "sentences = bigram[sent]\n",
    "sentences[1]"
   ]
  },
  {
   "cell_type": "markdown",
   "metadata": {},
   "source": [
    "### Word2Vec model"
   ]
  },
  {
   "cell_type": "code",
   "execution_count": 5,
   "metadata": {},
   "outputs": [
    {
     "name": "stderr",
     "output_type": "stream",
     "text": [
      "INFO - 19:11:42: Word2Vec lifecycle event {'params': 'Word2Vec<vocab=0, vector_size=300, alpha=0.03>', 'datetime': '2024-12-06T19:11:42.993046', 'gensim': '4.3.3', 'python': '3.10.11 (tags/v3.10.11:7d4cc5a, Apr  5 2023, 00:38:17) [MSC v.1929 64 bit (AMD64)]', 'platform': 'Windows-10-10.0.22631-SP0', 'event': 'created'}\n",
      "INFO - 19:11:42: collecting all words and their counts\n",
      "INFO - 19:11:43: PROGRESS: at sentence #0, processed 0 words, keeping 0 word types\n",
      "INFO - 19:11:43: collected 30215 word types from a corpus of 223065 raw words and 13314 sentences\n",
      "INFO - 19:11:43: Creating a fresh vocabulary\n",
      "INFO - 19:11:43: Word2Vec lifecycle event {'msg': 'effective_min_count=3 retains 11537 unique words (38.18% of original 30215, drops 18678)', 'datetime': '2024-12-06T19:11:43.335439', 'gensim': '4.3.3', 'python': '3.10.11 (tags/v3.10.11:7d4cc5a, Apr  5 2023, 00:38:17) [MSC v.1929 64 bit (AMD64)]', 'platform': 'Windows-10-10.0.22631-SP0', 'event': 'prepare_vocab'}\n",
      "INFO - 19:11:43: Word2Vec lifecycle event {'msg': 'effective_min_count=3 leaves 196229 word corpus (87.97% of original 223065, drops 26836)', 'datetime': '2024-12-06T19:11:43.335439', 'gensim': '4.3.3', 'python': '3.10.11 (tags/v3.10.11:7d4cc5a, Apr  5 2023, 00:38:17) [MSC v.1929 64 bit (AMD64)]', 'platform': 'Windows-10-10.0.22631-SP0', 'event': 'prepare_vocab'}\n",
      "INFO - 19:11:43: deleting the raw counts dictionary of 30215 items\n",
      "INFO - 19:11:43: sample=1e-05 downsamples 5676 most-common words\n",
      "INFO - 19:11:43: Word2Vec lifecycle event {'msg': 'downsampling leaves estimated 68446.00235713553 word corpus (34.9%% of prior 196229)', 'datetime': '2024-12-06T19:11:43.442900', 'gensim': '4.3.3', 'python': '3.10.11 (tags/v3.10.11:7d4cc5a, Apr  5 2023, 00:38:17) [MSC v.1929 64 bit (AMD64)]', 'platform': 'Windows-10-10.0.22631-SP0', 'event': 'prepare_vocab'}\n",
      "INFO - 19:11:43: estimated required memory for 11537 words and 300 dimensions: 33457300 bytes\n",
      "INFO - 19:11:43: resetting layer weights\n",
      "INFO - 19:11:43: Word2Vec lifecycle event {'update': False, 'trim_rule': 'None', 'datetime': '2024-12-06T19:11:43.553990', 'gensim': '4.3.3', 'python': '3.10.11 (tags/v3.10.11:7d4cc5a, Apr  5 2023, 00:38:17) [MSC v.1929 64 bit (AMD64)]', 'platform': 'Windows-10-10.0.22631-SP0', 'event': 'build_vocab'}\n"
     ]
    },
    {
     "name": "stdout",
     "output_type": "stream",
     "text": [
      "Vocab creation time: 0.01 mins\n"
     ]
    }
   ],
   "source": [
    "w2v_model = Word2Vec(min_count=3,\n",
    "                     window=4,\n",
    "                     vector_size=300,\n",
    "                     sample=1e-5, \n",
    "                     alpha=0.03, \n",
    "                     min_alpha=0.0007, \n",
    "                     negative=20,\n",
    "                     workers=multiprocessing.cpu_count()-1)\n",
    "\n",
    "start = time()\n",
    "\n",
    "w2v_model.build_vocab(sentences, progress_per=50000)\n",
    "\n",
    "print('Vocab creation time: {} mins'.format(round((time() - start) / 60, 2)))"
   ]
  },
  {
   "cell_type": "markdown",
   "metadata": {},
   "source": [
    "### Training"
   ]
  },
  {
   "cell_type": "code",
   "execution_count": 6,
   "metadata": {},
   "outputs": [
    {
     "name": "stderr",
     "output_type": "stream",
     "text": [
      "INFO - 19:11:43: Word2Vec lifecycle event {'msg': 'training model with 7 workers on 11537 vocabulary and 300 features, using sg=0 hs=0 sample=1e-05 negative=20 window=4 shrink_windows=True', 'datetime': '2024-12-06T19:11:43.577336', 'gensim': '4.3.3', 'python': '3.10.11 (tags/v3.10.11:7d4cc5a, Apr  5 2023, 00:38:17) [MSC v.1929 64 bit (AMD64)]', 'platform': 'Windows-10-10.0.22631-SP0', 'event': 'train'}\n",
      "INFO - 19:11:43: EPOCH 0: training on 223065 raw words (68495 effective words) took 0.4s, 194981 effective words/s\n",
      "INFO - 19:11:44: EPOCH 1: training on 223065 raw words (68584 effective words) took 0.3s, 213226 effective words/s\n",
      "INFO - 19:11:44: EPOCH 2: training on 223065 raw words (68563 effective words) took 0.3s, 207687 effective words/s\n",
      "INFO - 19:11:45: EPOCH 3: training on 223065 raw words (68464 effective words) took 0.4s, 171212 effective words/s\n",
      "INFO - 19:11:45: EPOCH 4: training on 223065 raw words (68485 effective words) took 0.3s, 212885 effective words/s\n",
      "INFO - 19:11:45: EPOCH 5: training on 223065 raw words (68300 effective words) took 0.3s, 199353 effective words/s\n",
      "INFO - 19:11:46: EPOCH 6: training on 223065 raw words (68294 effective words) took 0.4s, 189694 effective words/s\n",
      "INFO - 19:11:46: EPOCH 7: training on 223065 raw words (68617 effective words) took 0.3s, 233913 effective words/s\n",
      "INFO - 19:11:46: EPOCH 8: training on 223065 raw words (68502 effective words) took 0.3s, 258448 effective words/s\n",
      "INFO - 19:11:47: EPOCH 9: training on 223065 raw words (68535 effective words) took 0.4s, 187163 effective words/s\n",
      "INFO - 19:11:47: EPOCH 10: training on 223065 raw words (68647 effective words) took 0.3s, 200544 effective words/s\n",
      "INFO - 19:11:47: EPOCH 11: training on 223065 raw words (68525 effective words) took 0.5s, 132232 effective words/s\n",
      "INFO - 19:11:48: EPOCH 12: training on 223065 raw words (68379 effective words) took 0.3s, 223430 effective words/s\n",
      "INFO - 19:11:48: EPOCH 13: training on 223065 raw words (68908 effective words) took 0.3s, 199014 effective words/s\n",
      "INFO - 19:11:48: EPOCH 14: training on 223065 raw words (68386 effective words) took 0.3s, 220239 effective words/s\n",
      "INFO - 19:11:49: EPOCH 15: training on 223065 raw words (68304 effective words) took 0.3s, 249430 effective words/s\n",
      "INFO - 19:11:49: EPOCH 16: training on 223065 raw words (68601 effective words) took 0.3s, 231319 effective words/s\n",
      "INFO - 19:11:49: EPOCH 17: training on 223065 raw words (68531 effective words) took 0.3s, 249970 effective words/s\n",
      "INFO - 19:11:50: EPOCH 18: training on 223065 raw words (68714 effective words) took 0.4s, 183156 effective words/s\n",
      "INFO - 19:11:50: EPOCH 19: training on 223065 raw words (68450 effective words) took 0.3s, 204713 effective words/s\n",
      "INFO - 19:11:50: EPOCH 20: training on 223065 raw words (68693 effective words) took 0.3s, 245104 effective words/s\n",
      "INFO - 19:11:51: EPOCH 21: training on 223065 raw words (68191 effective words) took 0.3s, 221612 effective words/s\n",
      "INFO - 19:11:51: EPOCH 22: training on 223065 raw words (68503 effective words) took 0.3s, 209588 effective words/s\n",
      "INFO - 19:11:51: EPOCH 23: training on 223065 raw words (68240 effective words) took 0.3s, 207607 effective words/s\n",
      "INFO - 19:11:52: EPOCH 24: training on 223065 raw words (68373 effective words) took 0.2s, 274762 effective words/s\n",
      "INFO - 19:11:52: EPOCH 25: training on 223065 raw words (68450 effective words) took 0.4s, 182623 effective words/s\n",
      "INFO - 19:11:52: EPOCH 26: training on 223065 raw words (68304 effective words) took 0.4s, 173803 effective words/s\n",
      "INFO - 19:11:53: EPOCH 27: training on 223065 raw words (68702 effective words) took 0.3s, 234679 effective words/s\n",
      "INFO - 19:11:53: EPOCH 28: training on 223065 raw words (68504 effective words) took 0.3s, 231614 effective words/s\n",
      "INFO - 19:11:53: EPOCH 29: training on 223065 raw words (68402 effective words) took 0.3s, 240333 effective words/s\n",
      "INFO - 19:11:53: Word2Vec lifecycle event {'msg': 'training on 6691950 raw words (2054646 effective words) took 10.3s, 198915 effective words/s', 'datetime': '2024-12-06T19:11:53.902869', 'gensim': '4.3.3', 'python': '3.10.11 (tags/v3.10.11:7d4cc5a, Apr  5 2023, 00:38:17) [MSC v.1929 64 bit (AMD64)]', 'platform': 'Windows-10-10.0.22631-SP0', 'event': 'train'}\n",
      "C:\\Users\\danie\\AppData\\Local\\Temp\\ipykernel_39612\\397523926.py:7: DeprecationWarning: Call to deprecated `init_sims` (Gensim 4.0.0 implemented internal optimizations that make calls to init_sims() unnecessary. init_sims() is now obsoleted and will be completely removed in future versions. See https://github.com/RaRe-Technologies/gensim/wiki/Migrating-from-Gensim-3.x-to-4).\n",
      "  w2v_model.init_sims(replace=True)\n",
      "WARNING - 19:11:53: destructive init_sims(replace=True) deprecated & no longer required for space-efficiency\n"
     ]
    },
    {
     "name": "stdout",
     "output_type": "stream",
     "text": [
      "Time to train the model: 0.17 mins\n"
     ]
    }
   ],
   "source": [
    "start = time()\n",
    "\n",
    "w2v_model.train(sentences, total_examples=w2v_model.corpus_count, epochs=30, report_delay=1)\n",
    "\n",
    "print('Time to train the model: {} mins'.format(round((time() - start) / 60, 2)))\n",
    "\n",
    "w2v_model.init_sims(replace=True)"
   ]
  },
  {
   "cell_type": "code",
   "execution_count": 7,
   "metadata": {},
   "outputs": [
    {
     "name": "stderr",
     "output_type": "stream",
     "text": [
      "INFO - 19:11:53: Word2Vec lifecycle event {'fname_or_handle': 'data/sentiment/word2vec.model', 'separately': 'None', 'sep_limit': 10485760, 'ignore': frozenset(), 'datetime': '2024-12-06T19:11:53.934612', 'gensim': '4.3.3', 'python': '3.10.11 (tags/v3.10.11:7d4cc5a, Apr  5 2023, 00:38:17) [MSC v.1929 64 bit (AMD64)]', 'platform': 'Windows-10-10.0.22631-SP0', 'event': 'saving'}\n",
      "INFO - 19:11:53: not storing attribute cum_table\n",
      "INFO - 19:11:53: saved data/sentiment/word2vec.model\n"
     ]
    }
   ],
   "source": [
    "w2v_model.save(\"data/sentiment/word2vec.model\")"
   ]
  },
  {
   "cell_type": "markdown",
   "metadata": {},
   "source": [
    "### Applying co-occurence to data"
   ]
  },
  {
   "cell_type": "code",
   "execution_count": 8,
   "metadata": {},
   "outputs": [],
   "source": [
    "df_model_export = df_model.copy()\n",
    "df_model_export['old_comment_no_stopwords'] = df_model_export['comment_no_stopwords']\n",
    "df_model_export.old_comment_no_stopwords = df_model_export.old_comment_no_stopwords.str.join(' ')\n",
    "df_model_export['comment_no_stopwords'] = df_model_export['comment_no_stopwords'].apply(lambda x: ' '.join(bigram[x]))\n",
    "\n",
    "df_model_export.to_csv(\"data/sentiment/cleaned_comments_preprocessed.csv\", index=False)"
   ]
  },
  {
   "cell_type": "code",
   "execution_count": 9,
   "metadata": {},
   "outputs": [
    {
     "name": "stderr",
     "output_type": "stream",
     "text": [
      "INFO - 19:11:54: loading Word2Vec object from data/sentiment/word2vec.model\n",
      "INFO - 19:11:54: loading wv recursively from data/sentiment/word2vec.model.wv.* with mmap=None\n",
      "INFO - 19:11:54: setting ignored attribute cum_table to None\n",
      "INFO - 19:11:54: Word2Vec lifecycle event {'fname': 'data/sentiment/word2vec.model', 'datetime': '2024-12-06T19:11:54.740779', 'gensim': '4.3.3', 'python': '3.10.11 (tags/v3.10.11:7d4cc5a, Apr  5 2023, 00:38:17) [MSC v.1929 64 bit (AMD64)]', 'platform': 'Windows-10-10.0.22631-SP0', 'event': 'loaded'}\n"
     ]
    }
   ],
   "source": [
    "word_vectors = Word2Vec.load(\"data/sentiment/word2vec.model\").wv"
   ]
  },
  {
   "cell_type": "markdown",
   "metadata": {},
   "source": [
    "### Elbow method and Silhouette score for K-means clustering"
   ]
  },
  {
   "cell_type": "code",
   "execution_count": 10,
   "metadata": {},
   "outputs": [
    {
     "data": {
      "image/png": "[encoded data removed]",
      "text/plain": [
       "<Figure size 800x500 with 1 Axes>"
      ]
     },
     "metadata": {},
     "output_type": "display_data"
    },
    {
     "data": {
      "image/png": "[encoded data removed]",
      "text/plain": [
       "<Figure size 800x500 with 1 Axes>"
      ]
     },
     "metadata": {},
     "output_type": "display_data"
    }
   ],
   "source": [
    "# Range of k clusters\n",
    "k_values = range(2, 10)\n",
    "inertia = []\n",
    "silhouette_scores = []\n",
    "\n",
    "for k in k_values:\n",
    "    kmeans = KMeans(n_clusters=k, random_state=42, n_init=10)\n",
    "    kmeans.fit(X=word_vectors.vectors.astype('double')) \n",
    "    inertia.append(kmeans.inertia_)\n",
    "\n",
    "    # Compute silhouette score\n",
    "    labels = kmeans.labels_\n",
    "    silhouette = silhouette_score(word_vectors.vectors.astype('double'), labels)\n",
    "    silhouette_scores.append(silhouette)\n",
    "\n",
    "# Plot inertia vs. k\n",
    "plt.figure(figsize=(8, 5))\n",
    "plt.plot(k_values, inertia, marker='o')\n",
    "plt.xlabel('Number of Clusters (k)')\n",
    "plt.ylabel('Inertia')\n",
    "plt.title('Elbow Method to Determine Optimal k')\n",
    "plt.show()\n",
    "\n",
    "plt.figure(figsize=(8, 5))\n",
    "plt.plot(k_values, silhouette_scores, marker='o', color='orange', label='Silhouette Score')\n",
    "plt.xlabel('Number of Clusters (k)')\n",
    "plt.ylabel('Silhouette Score')\n",
    "plt.title('Silhouette Score to Determine Optimal k')\n",
    "plt.legend()\n",
    "plt.show()"
   ]
  },
  {
   "cell_type": "code",
   "execution_count": 11,
   "metadata": {},
   "outputs": [
    {
     "data": {
      "text/plain": [
       "[0.9469496816642426,\n",
       " 0.9445768609159109,\n",
       " 0.9366476877315953,\n",
       " 0.8422755290341831,\n",
       " 0.842339417256956,\n",
       " 0.826290988897639,\n",
       " 0.0058808286530081764,\n",
       " 0.00672201352455328]"
      ]
     },
     "execution_count": 11,
     "metadata": {},
     "output_type": "execute_result"
    }
   ],
   "source": [
    "silhouette_scores"
   ]
  },
  {
   "cell_type": "code",
   "execution_count": 12,
   "metadata": {},
   "outputs": [
    {
     "name": "stdout",
     "output_type": "stream",
     "text": [
      "Silhoutte score for 2 clusters: 0.9469496816642426\n",
      "Silhoutte score for 3 clusters: 0.9445768609159109\n",
      "Silhoutte score for 4 clusters: 0.9366476877315953\n",
      "Silhoutte score for 5 clusters: 0.8422755290341831\n",
      "Silhoutte score for 6 clusters: 0.842339417256956\n",
      "Silhoutte score for 7 clusters: 0.826290988897639\n",
      "Silhoutte score for 8 clusters: 0.0058808286530081764\n",
      "Silhoutte score for 9 clusters: 0.00672201352455328\n"
     ]
    }
   ],
   "source": [
    "for k in range(len(k_values)):\n",
    "    print(f\"Silhoutte score for {k+2} clusters: {silhouette_scores[k]}\")"
   ]
  },
  {
   "cell_type": "markdown",
   "metadata": {},
   "source": [
    "### Define and fit KMeans model"
   ]
  },
  {
   "cell_type": "code",
   "execution_count": 13,
   "metadata": {},
   "outputs": [],
   "source": [
    "model = KMeans(n_clusters=5, max_iter=1000, random_state=True, n_init=50).fit(X=word_vectors.vectors.astype('double'))"
   ]
  },
  {
   "cell_type": "code",
   "execution_count": 14,
   "metadata": {},
   "outputs": [
    {
     "data": {
      "text/plain": [
       "[('bullets', 0.9998773336410522),\n",
       " ('emerged', 0.9998766779899597),\n",
       " ('pappe', 0.9998766779899597),\n",
       " ('chance', 0.999875545501709),\n",
       " ('releases', 0.9998741149902344),\n",
       " ('expert', 0.9998741149902344),\n",
       " ('upload', 0.9998738765716553),\n",
       " ('recognizing', 0.9998738169670105),\n",
       " ('president_biden', 0.9998733401298523),\n",
       " ('hoping', 0.9998728036880493),\n",
       " ('stupid', 0.9998718500137329),\n",
       " ('anywhere', 0.9998708963394165),\n",
       " ('1994', 0.9998704195022583),\n",
       " ('next_month', 0.9998703002929688),\n",
       " ('sit', 0.9998701810836792),\n",
       " ('space', 0.9998700022697449),\n",
       " ('joe', 0.9998699426651001),\n",
       " ('source', 0.9998697638511658),\n",
       " ('foreign_military', 0.999869704246521),\n",
       " ('business_usual', 0.9998695254325867),\n",
       " ('wealthy_country', 0.9998693466186523),\n",
       " ('karta', 0.9998692274093628),\n",
       " ('easier', 0.9998692274093628),\n",
       " ('refuse', 0.999869167804718),\n",
       " ('malaysia', 0.9998689889907837),\n",
       " ('lack', 0.9998687505722046),\n",
       " ('spirit', 0.999868631362915),\n",
       " ('treated', 0.9998685121536255),\n",
       " ('fighting_terrorists', 0.9998684525489807),\n",
       " ('every_time', 0.9998682737350464),\n",
       " ('silenced', 0.9998682737350464),\n",
       " ('link', 0.9998680353164673),\n",
       " ('supporter', 0.9998679161071777),\n",
       " ('pointed', 0.9998676776885986),\n",
       " ('although', 0.9998676180839539),\n",
       " ('100_agree', 0.9998674392700195),\n",
       " ('horrible_person', 0.9998672008514404),\n",
       " ('exaggerated', 0.9998669624328613),\n",
       " ('challenge', 0.9998666644096375),\n",
       " ('sort', 0.9998664259910583),\n",
       " ('virtual', 0.9998663663864136),\n",
       " ('fox_news', 0.9998663067817688),\n",
       " ('prove', 0.9998663067817688),\n",
       " ('half', 0.999866247177124),\n",
       " ('morals', 0.9998661279678345),\n",
       " ('gain', 0.9998661279678345),\n",
       " ('charged', 0.9998661279678345),\n",
       " ('blind', 0.9998660087585449),\n",
       " ('damn', 0.9998656511306763),\n",
       " ('keep_telling', 0.9998656511306763)]"
      ]
     },
     "execution_count": 14,
     "metadata": {},
     "output_type": "execute_result"
    }
   ],
   "source": [
    "word_vectors.similar_by_vector(model.cluster_centers_[4], topn=50, restrict_vocab=None)"
   ]
  },
  {
   "cell_type": "code",
   "execution_count": 15,
   "metadata": {},
   "outputs": [],
   "source": [
    "positive_cluster_index = 0\n",
    "positive_cluster_center = model.cluster_centers_[positive_cluster_index]\n",
    "negative_cluster_center = model.cluster_centers_[1-positive_cluster_index]"
   ]
  },
  {
   "cell_type": "code",
   "execution_count": 16,
   "metadata": {},
   "outputs": [],
   "source": [
    "words = pd.DataFrame(word_vectors.index_to_key)\n",
    "words.columns = ['words']\n",
    "words['vectors'] = words.words.apply(lambda x: word_vectors[f'{x}'])\n",
    "words['cluster'] = words.vectors.apply(lambda x: model.predict([np.array(x)]))\n",
    "words.cluster = words.cluster.apply(lambda x: x[0])"
   ]
  },
  {
   "cell_type": "code",
   "execution_count": 17,
   "metadata": {},
   "outputs": [],
   "source": [
    "words['cluster_value'] = [1 if i==positive_cluster_index else -1 for i in words.cluster]\n",
    "words['closeness_score'] = words.apply(lambda x: 1/(model.transform([x.vectors]).min()), axis=1)\n",
    "words['sentiment_coeff'] = words.closeness_score * words.cluster_value"
   ]
  },
  {
   "cell_type": "code",
   "execution_count": 18,
   "metadata": {},
   "outputs": [],
   "source": [
    "words[['words', 'sentiment_coeff']].to_csv('data/sentiment/sentiment_dictionary.csv', index=False)"
   ]
  },
  {
   "cell_type": "code",
   "execution_count": 19,
   "metadata": {},
   "outputs": [],
   "source": [
    "sentiment_map = pd.read_csv('data/sentiment/sentiment_dictionary.csv')\n",
    "sentiment_dict = dict(zip(sentiment_map.words.values, sentiment_map.sentiment_coeff.values))"
   ]
  },
  {
   "cell_type": "code",
   "execution_count": 20,
   "metadata": {},
   "outputs": [
    {
     "name": "stderr",
     "output_type": "stream",
     "text": [
      "c:\\Users\\danie\\OneDrive - Danmarks Tekniske Universitet\\Dokumenter\\7. semester\\Computational tools for data science\\ComputationalEnv\\lib\\site-packages\\sklearn\\feature_extraction\\text.py:521: UserWarning: The parameter 'token_pattern' will not be used since 'tokenizer' is not None'\n",
      "  warnings.warn(\n"
     ]
    }
   ],
   "source": [
    "final_df = pd.read_csv(\"data/sentiment/cleaned_comments_preprocessed.csv\")\n",
    "df_weighting = final_df.copy()\n",
    "df_weighting = df_weighting[df_weighting['comment_no_stopwords'].str.len()>0]\n",
    "df_weighting = df_weighting.reset_index(drop=True)\n",
    "\n",
    "tfidf = TfidfVectorizer(tokenizer=lambda y: y.split(), norm=None)\n",
    "tfidf.fit(df_weighting['comment_no_stopwords'])\n",
    "features = pd.Series(tfidf.get_feature_names_out())\n"
   ]
  },
  {
   "cell_type": "code",
   "execution_count": 21,
   "metadata": {},
   "outputs": [],
   "source": [
    "missing_words =pd.Series(['every_single'])\n",
    "features = pd.concat([features, missing_words]).reset_index(drop=True)\n",
    "transformed = tfidf.transform(df_weighting['comment_no_stopwords'])"
   ]
  },
  {
   "cell_type": "code",
   "execution_count": 22,
   "metadata": {},
   "outputs": [],
   "source": [
    "def create_tfidf_dictionary(x, transformed_file, features):\n",
    "    '''\n",
    "    create dictionary for each input sentence x, where each word has assigned its tfidf score\n",
    "    \n",
    "    inspired  by function from this wonderful article: \n",
    "    https://medium.com/analytics-vidhya/automated-keyword-extraction-from-articles-using-nlp-bfd864f41b34\n",
    "    \n",
    "    x - row of dataframe, containing sentences, and their indexes,\n",
    "    transformed_file - all sentences transformed with TfidfVectorizer\n",
    "    features - names of all words in corpus used in TfidfVectorizer\n",
    "\n",
    "    '''\n",
    "    vector_coo = transformed_file[x.name].tocoo()\n",
    "    words = features.iloc[vector_coo.col].values\n",
    "    dict_from_coo = dict(zip(vector_coo.col, vector_coo.data))\n",
    "    return dict_from_coo\n",
    "\n",
    "def replace_tfidf_words(x, transformed_file, features):\n",
    "    '''\n",
    "    replacing each word with it's calculated tfidf dictionary with scores of each word\n",
    "    x - row of dataframe, containing sentences, and their indexes,\n",
    "    transformed_file - all sentences transformed with TfidfVectorizer\n",
    "    features - names of all words in corpus used in TfidfVectorizer\n",
    "    '''\n",
    "    dictionary = create_tfidf_dictionary(x, transformed_file, features)   \n",
    "    return list(map(lambda y: dictionary.get(y, 0), x['comment_no_stopwords'].split()))"
   ]
  },
  {
   "cell_type": "code",
   "execution_count": 23,
   "metadata": {},
   "outputs": [
    {
     "name": "stdout",
     "output_type": "stream",
     "text": [
      "CPU times: total: 1.41 s\n",
      "Wall time: 2.74 s\n"
     ]
    }
   ],
   "source": [
    "%%time\n",
    "replaced_tfidf_scores = df_weighting.apply(lambda x: replace_tfidf_words(x, transformed, features), axis=1) # this step takes around 3-4 minutes minutes to calculate"
   ]
  },
  {
   "cell_type": "code",
   "execution_count": 24,
   "metadata": {},
   "outputs": [],
   "source": [
    "def replace_sentiment_words(word, sentiment_dict):\n",
    "    '''\n",
    "    replacing each word with its associated sentiment score from sentiment dict\n",
    "    '''\n",
    "    try:\n",
    "        out = sentiment_dict[word]\n",
    "    except KeyError:\n",
    "        out = 0\n",
    "    return out"
   ]
  },
  {
   "cell_type": "code",
   "execution_count": 25,
   "metadata": {},
   "outputs": [],
   "source": [
    "replaced_closeness_scores = df_weighting['comment_no_stopwords'].apply(lambda x: list(map(lambda y: replace_sentiment_words(y, sentiment_dict), x.split())))"
   ]
  },
  {
   "cell_type": "code",
   "execution_count": 26,
   "metadata": {},
   "outputs": [],
   "source": [
    "replacement_df = pd.DataFrame(data=[replaced_closeness_scores, replaced_tfidf_scores, df_weighting['comment_no_stopwords']]).T\n",
    "replacement_df.columns = ['sentiment_coeff', 'tfidf_scores', 'sentence']\n",
    "replacement_df['sentiment_rate'] = replacement_df.apply(lambda x: np.array(x.loc['sentiment_coeff']) @ np.array(x.loc['tfidf_scores']), axis=1)"
   ]
  },
  {
   "cell_type": "code",
   "execution_count": 27,
   "metadata": {},
   "outputs": [],
   "source": [
    "replacement_df['sentiment_score_unsupervised'] = replacement_df['sentiment_coeff'].apply(np.mean)"
   ]
  },
  {
   "cell_type": "code",
   "execution_count": 28,
   "metadata": {},
   "outputs": [],
   "source": [
    "df_final = pd.read_csv(\"data/sentiment/cleaned_comments_preprocessed.csv\")\n",
    "df_final['sentiment_score_unsupervised'] = replacement_df['sentiment_score_unsupervised']\n",
    "\n",
    "df_final.to_csv('data/sentiment/cleaned_comments_preprocessed.csv', index=False)"
   ]
  }
 ],
 "metadata": {
  "kernelspec": {
   "display_name": "ComputationalEnv",
   "language": "python",
   "name": "python3"
  },
  "language_info": {
   "codemirror_mode": {
    "name": "ipython",
    "version": 3
   },
   "file_extension": ".py",
   "mimetype": "text/x-python",
   "name": "python",
   "nbconvert_exporter": "python",
   "pygments_lexer": "ipython3",
   "version": "3.10.11"
  }
 },
 "nbformat": 4,
 "nbformat_minor": 2
}
