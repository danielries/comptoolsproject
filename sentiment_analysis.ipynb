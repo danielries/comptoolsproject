{
 "cells": [
  {
   "cell_type": "code",
   "execution_count": 13,
   "metadata": {},
   "outputs": [],
   "source": [
    "# Function to calculate sentiment score for a single text\n",
    "def calculate_sentiment(input_text):\n",
    "    text = input_text.split()\n",
    "    from afinn import Afinn\n",
    "    from collections import defaultdict\n",
    "\n",
    "    # Load AFINN lexicon with defaultdict to handle missing words\n",
    "    sent_lexicon = defaultdict(lambda: 0, Afinn()._dict)\n",
    "\n",
    "    #print(*(sent_lexicon[word] for word in text), sep='\\n')\n",
    "    \n",
    "    # Sum up the sentiment scores of each word in the text\n",
    "    sentiment_score = sum(sent_lexicon[word] for word in text)\n",
    "    \n",
    "    # Optionally normalize by the number of words (average sentiment per word)\n",
    "    if len(text) > 0:\n",
    "        normalized_score = sentiment_score / len(text)\n",
    "    else:\n",
    "        normalized_score = 0\n",
    "\n",
    "    # if normalized_score > 0:\n",
    "    #     print('text:', text)\n",
    "    #     print('sentiment_score:', sentiment_score)\n",
    "    #     print('len(text):', len(text))\n",
    "    #     print('normalized_score:', normalized_score)\n",
    "        \n",
    "    return normalized_score"
   ]
  }
 ],
 "metadata": {
  "kernelspec": {
   "display_name": "Python 3",
   "language": "python",
   "name": "python3"
  },
  "language_info": {
   "codemirror_mode": {
    "name": "ipython",
    "version": 3
   },
   "file_extension": ".py",
   "mimetype": "text/x-python",
   "name": "python",
   "nbconvert_exporter": "python",
   "pygments_lexer": "ipython3",
   "version": "3.12.0"
  }
 },
 "nbformat": 4,
 "nbformat_minor": 2
}
