{
 "cells": [
  {
   "cell_type": "markdown",
   "metadata": {},
   "source": [
    "### Clustering in new way (WIP)"
   ]
  },
  {
   "cell_type": "code",
   "execution_count": null,
   "metadata": {},
   "outputs": [],
   "source": [
    "# Import libraries\n",
    "import numpy as np\n",
    "import matplotlib.pyplot as plt\n",
    "import pandas as pd\n",
    "from sklearn.preprocessing import StandardScaler\n",
    "from sklearn.cluster import KMeans\n",
    "\n",
    "# Load the dataset\n",
    "df = pd.read_csv('data/combined_comments_processed.csv')\n"
   ]
  },
  {
   "cell_type": "code",
   "execution_count": null,
   "metadata": {},
   "outputs": [],
   "source": [
    "from sklearn.cluster import KMeans\n",
    "import matplotlib.pyplot as plt\n",
    "import numpy as np\n",
    "from sklearn.preprocessing import StandardScaler\n",
    "\n",
    "# Log-transform skewed features\n",
    "df['log_upvotes'] = np.log1p(df['upvotes'])\n",
    "df['log_lix_score'] = np.log1p(df['lix_score'])\n",
    "\n",
    "# Cap extreme values (e.g., 99th percentile)\n",
    "# df['log_upvotes'] = df['log_upvotes'].clip(upper=df['log_upvotes'].quantile(0.99))\n",
    "# df['log_lix_score'] = df['log_lix_score'].clip(upper=df['log_lix_score'].quantile(0.99))\n",
    "\n",
    "# Prepare features\n",
    "features = df[['sentiment_score', 'log_lix_score', 'log_upvotes']]\n",
    "\n",
    "# Scale features\n",
    "scaler = StandardScaler()\n",
    "scaled_features = scaler.fit_transform(features)\n",
    "\n",
    "# Elbow method to determine optimal k\n",
    "inertia = []\n",
    "for k in range(1, 15):\n",
    "    kmeans = KMeans(n_clusters=k, random_state=42)\n",
    "    kmeans.fit(scaled_features)\n",
    "    inertia.append(kmeans.inertia_)\n",
    "\n",
    "# Plot elbow curve\n",
    "plt.figure(figsize=(8, 6))\n",
    "plt.plot(range(1, 15), inertia, marker='o')\n",
    "plt.title('Elbow Method for Optimal k')\n",
    "plt.xlabel('Number of Clusters')\n",
    "plt.ylabel('Inertia')\n",
    "plt.show()\n",
    "\n",
    "# Choose optimal k and cluster\n",
    "optimal_k = 6  # Adjust based on elbow curve\n",
    "kmeans = KMeans(n_clusters=optimal_k, random_state=42)\n",
    "df['KMEANS'] = kmeans.fit_predict(scaled_features)\n",
    "\n",
    "# Summarize clusters\n",
    "cluster_summary = df.groupby('KMEANS')[['sentiment_score', 'log_lix_score', 'log_upvotes']].mean()\n",
    "print(cluster_summary)\n",
    "\n",
    "# Visualize clusters\n",
    "from sklearn.decomposition import PCA\n",
    "\n",
    "# Reduce dimensions for visualization\n",
    "pca = PCA(n_components=2)\n",
    "reduced_features = pca.fit_transform(scaled_features)\n",
    "\n",
    "# Scatter plot\n",
    "plt.figure(figsize=(10, 6))\n",
    "plt.scatter(reduced_features[:, 0], reduced_features[:, 1], c=df['KMEANS'], cmap='viridis', s=50)\n",
    "plt.title('Clusters (PCA)')\n",
    "plt.xlabel('PCA Component 1')\n",
    "plt.ylabel('PCA Component 2')\n",
    "plt.colorbar(label='Cluster')\n",
    "plt.show()\n"
   ]
  },
  {
   "cell_type": "code",
   "execution_count": null,
   "metadata": {},
   "outputs": [],
   "source": [
    "df.to_csv('data/all_data_clustered.csv', index=False)"
   ]
  }
 ],
 "metadata": {
  "kernelspec": {
   "display_name": "ComputationalEnv",
   "language": "python",
   "name": "python3"
  },
  "language_info": {
   "codemirror_mode": {
    "name": "ipython",
    "version": 3
   },
   "file_extension": ".py",
   "mimetype": "text/x-python",
   "name": "python",
   "nbconvert_exporter": "python",
   "pygments_lexer": "ipython3",
   "version": "3.10.11"
  }
 },
 "nbformat": 4,
 "nbformat_minor": 2
}
